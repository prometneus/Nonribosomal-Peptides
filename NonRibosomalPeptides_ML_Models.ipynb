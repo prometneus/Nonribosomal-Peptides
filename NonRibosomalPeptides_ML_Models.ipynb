{
  "nbformat": 4,
  "nbformat_minor": 0,
  "metadata": {
    "colab": {
      "name": "NonRibosomalPeptides.ipynb",
      "provenance": [],
      "collapsed_sections": [
        "Xa7_Z1hVegbj",
        "I-VOKVOeeLsj"
      ],
      "include_colab_link": true
    },
    "kernelspec": {
      "display_name": "Python 3",
      "name": "python3"
    },
    "language_info": {
      "name": "python"
    }
  },
  "cells": [
    {
      "cell_type": "markdown",
      "metadata": {
        "id": "view-in-github",
        "colab_type": "text"
      },
      "source": [
        "<a href=\"https://colab.research.google.com/github/prometneus/Nonribosomal-Peptides/blob/main/NonRibosomalPeptides_ML_Models.ipynb\" target=\"_parent\"><img src=\"https://colab.research.google.com/assets/colab-badge.svg\" alt=\"Open In Colab\"/></a>"
      ]
    },
    {
      "cell_type": "code",
      "metadata": {
        "colab": {
          "base_uri": "https://localhost:8080/"
        },
        "id": "ILjgWvcYgaH-",
        "outputId": "971eb042-3b74-4b70-aa72-3482a7817938"
      },
      "source": [
        "!pip install catboost"
      ],
      "execution_count": 34,
      "outputs": [
        {
          "output_type": "stream",
          "text": [
            "Requirement already satisfied: catboost in /usr/local/lib/python3.7/dist-packages (0.26)\n",
            "Requirement already satisfied: numpy>=1.16.0 in /usr/local/lib/python3.7/dist-packages (from catboost) (1.19.5)\n",
            "Requirement already satisfied: graphviz in /usr/local/lib/python3.7/dist-packages (from catboost) (0.10.1)\n",
            "Requirement already satisfied: six in /usr/local/lib/python3.7/dist-packages (from catboost) (1.15.0)\n",
            "Requirement already satisfied: matplotlib in /usr/local/lib/python3.7/dist-packages (from catboost) (3.2.2)\n",
            "Requirement already satisfied: scipy in /usr/local/lib/python3.7/dist-packages (from catboost) (1.4.1)\n",
            "Requirement already satisfied: pandas>=0.24.0 in /usr/local/lib/python3.7/dist-packages (from catboost) (1.1.5)\n",
            "Requirement already satisfied: plotly in /usr/local/lib/python3.7/dist-packages (from catboost) (4.4.1)\n",
            "Requirement already satisfied: python-dateutil>=2.1 in /usr/local/lib/python3.7/dist-packages (from matplotlib->catboost) (2.8.1)\n",
            "Requirement already satisfied: cycler>=0.10 in /usr/local/lib/python3.7/dist-packages (from matplotlib->catboost) (0.10.0)\n",
            "Requirement already satisfied: pyparsing!=2.0.4,!=2.1.2,!=2.1.6,>=2.0.1 in /usr/local/lib/python3.7/dist-packages (from matplotlib->catboost) (2.4.7)\n",
            "Requirement already satisfied: kiwisolver>=1.0.1 in /usr/local/lib/python3.7/dist-packages (from matplotlib->catboost) (1.3.1)\n",
            "Requirement already satisfied: pytz>=2017.2 in /usr/local/lib/python3.7/dist-packages (from pandas>=0.24.0->catboost) (2018.9)\n",
            "Requirement already satisfied: retrying>=1.3.3 in /usr/local/lib/python3.7/dist-packages (from plotly->catboost) (1.3.3)\n"
          ],
          "name": "stdout"
        }
      ]
    },
    {
      "cell_type": "code",
      "metadata": {
        "id": "JhXglJ_cPqSt"
      },
      "source": [
        "import pandas as pd\n",
        "import numpy as np\n",
        "import xgboost as xgb\n",
        "import seaborn as sns\n",
        "import catboost\n",
        "\n",
        "from matplotlib import pyplot as plt\n",
        "# %matplotlib inline\n",
        "from sklearn.ensemble import RandomForestClassifier\n",
        "from sklearn.datasets import make_classification\n",
        "from sklearn.model_selection import GridSearchCV, cross_val_score, train_test_split, KFold\n",
        "from sklearn.metrics import accuracy_score, classification_report, confusion_matrix, f1_score, make_scorer\n",
        "from sklearn.cluster import KMeans\n",
        "from sklearn.svm import SVC\n",
        "from sklearn.naive_bayes import GaussianNB\n",
        "from sklearn.linear_model import LogisticRegression, LogisticRegressionCV\n",
        "from sklearn.pipeline import make_pipeline\n",
        "from catboost import CatBoostClassifier\n",
        "from sklearn.decomposition import PCA\n",
        "from sklearn.preprocessing import StandardScaler, LabelEncoder"
      ],
      "execution_count": 35,
      "outputs": []
    },
    {
      "cell_type": "code",
      "metadata": {
        "colab": {
          "base_uri": "https://localhost:8080/"
        },
        "id": "_-K5QZt1bvLp",
        "outputId": "41402de2-5bfd-4b0e-9c6d-a1043d602dc0"
      },
      "source": [
        "!wget https://raw.githubusercontent.com/prometneus/Nonribosomal-Peptides/main/data/FullDB.csv"
      ],
      "execution_count": 36,
      "outputs": [
        {
          "output_type": "stream",
          "text": [
            "--2021-07-09 22:06:45--  https://raw.githubusercontent.com/prometneus/Nonribosomal-Peptides/main/data/FullDB.csv\n",
            "Resolving raw.githubusercontent.com (raw.githubusercontent.com)... 185.199.108.133, 185.199.109.133, 185.199.110.133, ...\n",
            "Connecting to raw.githubusercontent.com (raw.githubusercontent.com)|185.199.108.133|:443... connected.\n",
            "HTTP request sent, awaiting response... 200 OK\n",
            "Length: 612651 (598K) [text/plain]\n",
            "Saving to: ‘FullDB.csv.2’\n",
            "\n",
            "FullDB.csv.2        100%[===================>] 598.29K  --.-KB/s    in 0.05s   \n",
            "\n",
            "2021-07-09 22:06:46 (13.0 MB/s) - ‘FullDB.csv.2’ saved [612651/612651]\n",
            "\n"
          ],
          "name": "stdout"
        }
      ]
    },
    {
      "cell_type": "code",
      "metadata": {
        "colab": {
          "base_uri": "https://localhost:8080/",
          "height": 359
        },
        "id": "4yLtHwmqPriQ",
        "outputId": "de4d7f83-6d72-4637-89e3-9abee3ed1337"
      },
      "source": [
        "data = pd.read_csv(\"FullDB.csv\")\n",
        "data.head(10)"
      ],
      "execution_count": 37,
      "outputs": [
        {
          "output_type": "execute_result",
          "data": {
            "text/html": [
              "<div>\n",
              "<style scoped>\n",
              "    .dataframe tbody tr th:only-of-type {\n",
              "        vertical-align: middle;\n",
              "    }\n",
              "\n",
              "    .dataframe tbody tr th {\n",
              "        vertical-align: top;\n",
              "    }\n",
              "\n",
              "    .dataframe thead th {\n",
              "        text-align: right;\n",
              "    }\n",
              "</style>\n",
              "<table border=\"1\" class=\"dataframe\">\n",
              "  <thead>\n",
              "    <tr style=\"text-align: right;\">\n",
              "      <th></th>\n",
              "      <th>spec</th>\n",
              "      <th>Sequence</th>\n",
              "      <th>8A-signature</th>\n",
              "      <th>stachelhaus-code</th>\n",
              "    </tr>\n",
              "  </thead>\n",
              "  <tbody>\n",
              "    <tr>\n",
              "      <th>0</th>\n",
              "      <td>pro</td>\n",
              "      <td>YRELDERANRLAHLLAAHGVGPERIVALALPRSVDLVVAVLAVLKA...</td>\n",
              "      <td>LWHTFDVSAQESFAAQAGEHNHYGPTETHVVTAH</td>\n",
              "      <td>DVQFAAHVV-</td>\n",
              "    </tr>\n",
              "    <tr>\n",
              "      <th>1</th>\n",
              "      <td>pro</td>\n",
              "      <td>TYKELNESANRLARHLRKKGVMRQEPVAIMMERSTEFVTGILGILK...</td>\n",
              "      <td>LFEAFDVCYQESVSITAGEHNHYGPSETHVVSAY</td>\n",
              "      <td>DVQVIAHVV-</td>\n",
              "    </tr>\n",
              "    <tr>\n",
              "      <th>2</th>\n",
              "      <td>pro</td>\n",
              "      <td>TYRELHERSNQLARFLREKGVKKESIIGIMMERSVEMIVGILGILK...</td>\n",
              "      <td>LFTTFDVCYQESSFITAGEHNHYGPSETHVVTTY</td>\n",
              "      <td>DVQSIAHVV-</td>\n",
              "    </tr>\n",
              "    <tr>\n",
              "      <th>3</th>\n",
              "      <td>pro</td>\n",
              "      <td>SYRRLDQLSSSLAEELIGHGVGVEMTIPVLLEKTCWTPVAMLAVLK...</td>\n",
              "      <td>AHLSWDIPVTDLLLVLAGEIQGYGPAECSLVSTV</td>\n",
              "      <td>DITLVAGLV-</td>\n",
              "    </tr>\n",
              "    <tr>\n",
              "      <th>4</th>\n",
              "      <td>pro</td>\n",
              "      <td>TYRELNKAANRLARHLRMKGVVRQEPVAIMMERSAAFITGVLGILK...</td>\n",
              "      <td>LFEAFDVCYQESFLIAAGEHNHYGPSETHVVSTY</td>\n",
              "      <td>DVQFIAHVV-</td>\n",
              "    </tr>\n",
              "    <tr>\n",
              "      <th>5</th>\n",
              "      <td>pro</td>\n",
              "      <td>TYRELWAHSSFFARQLQRYGVTRGTPVAVCLDRSRWSIAVILGVLL...</td>\n",
              "      <td>SHHSFDVSIYETFLVLGGEINGYGPAEATICGVG</td>\n",
              "      <td>DVYFVGGIC-</td>\n",
              "    </tr>\n",
              "    <tr>\n",
              "      <th>6</th>\n",
              "      <td>pro</td>\n",
              "      <td>TYQQLNQKANQLAHSLQCLGVTPDSLVAICLERSLDMAVAILGTLK...</td>\n",
              "      <td>LHHAFDVSYHEAILITAGEYNFYGPSEADLVTAY</td>\n",
              "      <td>DVHIIAFLV-</td>\n",
              "    </tr>\n",
              "    <tr>\n",
              "      <th>7</th>\n",
              "      <td>pro</td>\n",
              "      <td>SYTELERVSSTWARQLQKQGISQGSWVLFCFEKSRLAVVSMIAILK...</td>\n",
              "      <td>AAYSFDISIADTVLIFTGEYNVYGPAENTLITTA</td>\n",
              "      <td>DIAVITVLI-</td>\n",
              "    </tr>\n",
              "    <tr>\n",
              "      <th>8</th>\n",
              "      <td>pro</td>\n",
              "      <td>TYSELDRQSDELAGWLRQQRLPAESLVAVLAPRSCQTIVAFLGILK...</td>\n",
              "      <td>VSPTFDVSLWETVFFSSGDHNAYGPTENGIQSTI</td>\n",
              "      <td>DVWVFSAIQ-</td>\n",
              "    </tr>\n",
              "    <tr>\n",
              "      <th>9</th>\n",
              "      <td>pro</td>\n",
              "      <td>TYYELNYRANQLAHYLQSLGVGSDALVGLCVERSLEMVIGLLGILK...</td>\n",
              "      <td>LWHAFDVSFQETFLITAGEHNHYGPSESHLATSF</td>\n",
              "      <td>DVQFIAHLA-</td>\n",
              "    </tr>\n",
              "  </tbody>\n",
              "</table>\n",
              "</div>"
            ],
            "text/plain": [
              "  spec  ... stachelhaus-code\n",
              "0  pro  ...       DVQFAAHVV-\n",
              "1  pro  ...       DVQVIAHVV-\n",
              "2  pro  ...       DVQSIAHVV-\n",
              "3  pro  ...       DITLVAGLV-\n",
              "4  pro  ...       DVQFIAHVV-\n",
              "5  pro  ...       DVYFVGGIC-\n",
              "6  pro  ...       DVHIIAFLV-\n",
              "7  pro  ...       DIAVITVLI-\n",
              "8  pro  ...       DVWVFSAIQ-\n",
              "9  pro  ...       DVQFIAHLA-\n",
              "\n",
              "[10 rows x 4 columns]"
            ]
          },
          "metadata": {
            "tags": []
          },
          "execution_count": 37
        }
      ]
    },
    {
      "cell_type": "code",
      "metadata": {
        "colab": {
          "base_uri": "https://localhost:8080/"
        },
        "id": "NasdkwDfOsfb",
        "outputId": "5933673c-28be-4680-af74-6ec4e19b9115"
      },
      "source": [
        "data.dropna()\n",
        "data.isna().sum()"
      ],
      "execution_count": 38,
      "outputs": [
        {
          "output_type": "execute_result",
          "data": {
            "text/plain": [
              "spec                0\n",
              "Sequence            0\n",
              "8A-signature        0\n",
              "stachelhaus-code    0\n",
              "dtype: int64"
            ]
          },
          "metadata": {
            "tags": []
          },
          "execution_count": 38
        }
      ]
    },
    {
      "cell_type": "code",
      "metadata": {
        "colab": {
          "base_uri": "https://localhost:8080/"
        },
        "id": "i4tNDgOfMnx4",
        "outputId": "5544510a-e0ca-41ac-f421-4c93c6396743"
      },
      "source": [
        "data.info()"
      ],
      "execution_count": 39,
      "outputs": [
        {
          "output_type": "stream",
          "text": [
            "<class 'pandas.core.frame.DataFrame'>\n",
            "RangeIndex: 1354 entries, 0 to 1353\n",
            "Data columns (total 4 columns):\n",
            " #   Column            Non-Null Count  Dtype \n",
            "---  ------            --------------  ----- \n",
            " 0   spec              1354 non-null   object\n",
            " 1   Sequence          1354 non-null   object\n",
            " 2   8A-signature      1354 non-null   object\n",
            " 3   stachelhaus-code  1354 non-null   object\n",
            "dtypes: object(4)\n",
            "memory usage: 42.4+ KB\n"
          ],
          "name": "stdout"
        }
      ]
    },
    {
      "cell_type": "code",
      "metadata": {
        "id": "8Elw9Ix3JFOj"
      },
      "source": [
        "# refuse = ['dht', 'dab', 'pip', 'trp', 'ala-b', 'abu', 'ser-thr', 'sal', 'lys-b',\n",
        "#           'alaninol', 'vol', 'd-lyserg', 'tcl', '3-me-glu', 'dpg', '4ppro',\n",
        "#           'bmt', 'ala-d', 'aeo', 'hiv', 'his', 'phg', 'spec', 'pip']\n",
        "# for i, elem in enumerate(refuse):\n",
        "#   data.drop(data[data['spec'] == refuse[i]].index, inplace=True)\n",
        "\n",
        "# data.head(10)"
      ],
      "execution_count": 40,
      "outputs": []
    },
    {
      "cell_type": "code",
      "metadata": {
        "colab": {
          "base_uri": "https://localhost:8080/"
        },
        "id": "2ddx9MiXPgK-",
        "outputId": "6afaa90a-cfc9-474d-f068-4ff9dfb324e5"
      },
      "source": [
        "data.info()"
      ],
      "execution_count": 41,
      "outputs": [
        {
          "output_type": "stream",
          "text": [
            "<class 'pandas.core.frame.DataFrame'>\n",
            "RangeIndex: 1354 entries, 0 to 1353\n",
            "Data columns (total 4 columns):\n",
            " #   Column            Non-Null Count  Dtype \n",
            "---  ------            --------------  ----- \n",
            " 0   spec              1354 non-null   object\n",
            " 1   Sequence          1354 non-null   object\n",
            " 2   8A-signature      1354 non-null   object\n",
            " 3   stachelhaus-code  1354 non-null   object\n",
            "dtypes: object(4)\n",
            "memory usage: 42.4+ KB\n"
          ],
          "name": "stdout"
        }
      ]
    },
    {
      "cell_type": "code",
      "metadata": {
        "id": "XQQAAqXAzkSw",
        "colab": {
          "base_uri": "https://localhost:8080/",
          "height": 1000
        },
        "outputId": "31a8ef3b-3946-4faf-bf36-c9015a5f18aa"
      },
      "source": [
        "for ctg in data:\n",
        "  plot,figure = plt.subplots()\n",
        "  colors = ['red', 'lightskyblue', 'yellowgreen', 'lightcoral']\n",
        "  lbl = list(data['spec'].value_counts().index)\n",
        "  figure.pie(data['spec'].value_counts().tolist(),\n",
        "             colors = colors, labels=lbl,autopct='%1.2f%%')\n",
        "  figure.axis('equal') \n",
        "  figure.set_title(ctg)\n",
        "  plt.show()"
      ],
      "execution_count": 42,
      "outputs": [
        {
          "output_type": "display_data",
          "data": {
            "image/png": "[encoded data removed]",
            "text/plain": [
              "<Figure size 432x288 with 1 Axes>"
            ]
          },
          "metadata": {
            "tags": []
          }
        },
        {
          "output_type": "display_data",
          "data": {
            "image/png": "[encoded data removed]",
            "text/plain": [
              "<Figure size 432x288 with 1 Axes>"
            ]
          },
          "metadata": {
            "tags": []
          }
        },
        {
          "output_type": "display_data",
          "data": {
            "image/png": "[encoded data removed]",
            "text/plain": [
              "<Figure size 432x288 with 1 Axes>"
            ]
          },
          "metadata": {
            "tags": []
          }
        },
        {
          "output_type": "display_data",
          "data": {
            "image/png": "[encoded data removed]",
            "text/plain": [
              "<Figure size 432x288 with 1 Axes>"
            ]
          },
          "metadata": {
            "tags": []
          }
        }
      ]
    },
    {
      "cell_type": "code",
      "metadata": {
        "colab": {
          "base_uri": "https://localhost:8080/"
        },
        "id": "zPDP1qrspZwD",
        "outputId": "c40c7f1e-bb38-4031-fb90-4f709ac5f24a"
      },
      "source": [
        "X = data['8A-signature']\n",
        "y = data['spec']\n",
        "X.head(10)"
      ],
      "execution_count": 43,
      "outputs": [
        {
          "output_type": "execute_result",
          "data": {
            "text/plain": [
              "0    LWHTFDVSAQESFAAQAGEHNHYGPTETHVVTAH\n",
              "1    LFEAFDVCYQESVSITAGEHNHYGPSETHVVSAY\n",
              "2    LFTTFDVCYQESSFITAGEHNHYGPSETHVVTTY\n",
              "3    AHLSWDIPVTDLLLVLAGEIQGYGPAECSLVSTV\n",
              "4    LFEAFDVCYQESFLIAAGEHNHYGPSETHVVSTY\n",
              "5    SHHSFDVSIYETFLVLGGEINGYGPAEATICGVG\n",
              "6    LHHAFDVSYHEAILITAGEYNFYGPSEADLVTAY\n",
              "7    AAYSFDISIADTVLIFTGEYNVYGPAENTLITTA\n",
              "8    VSPTFDVSLWETVFFSSGDHNAYGPTENGIQSTI\n",
              "9    LWHAFDVSFQETFLITAGEHNHYGPSESHLATSF\n",
              "Name: 8A-signature, dtype: object"
            ]
          },
          "metadata": {
            "tags": []
          },
          "execution_count": 43
        }
      ]
    },
    {
      "cell_type": "code",
      "metadata": {
        "colab": {
          "base_uri": "https://localhost:8080/"
        },
        "id": "Lltn-8NJ0-Wm",
        "outputId": "272a2f52-72be-47d6-ae5f-7180f06a9677"
      },
      "source": [
        "print(pd.unique(y))\n",
        "print(len(pd.unique(y)))"
      ],
      "execution_count": 44,
      "outputs": [
        {
          "output_type": "stream",
          "text": [
            "['pro' 'phe' 'asn' 'gln' 'tyr' 'val' 'orn' 'leu' 'ile' 'cys' 'glu' 'lys'\n",
            " 'asp' 'thr' 'trp' 'gly' 'ala' 'ser' 'dhb' 'aad' 'pip' 'bht' 'hpg' 'dhpg'\n",
            " 'beta-ala' 'dab' 'arg' 'horn' 'hyv-d' 'dht']\n",
            "30\n"
          ],
          "name": "stdout"
        }
      ]
    },
    {
      "cell_type": "code",
      "metadata": {
        "colab": {
          "base_uri": "https://localhost:8080/"
        },
        "id": "eeJawRPU3aJ_",
        "outputId": "c91b4df9-3dfb-42a6-d989-5fc8d3c953a0"
      },
      "source": [
        "uarr = []\n",
        "for line in X:\n",
        "  uarr += set(line)\n",
        "uarr = set(uarr)\n",
        "uarr"
      ],
      "execution_count": 45,
      "outputs": [
        {
          "output_type": "execute_result",
          "data": {
            "text/plain": [
              "{'-',\n",
              " 'A',\n",
              " 'C',\n",
              " 'D',\n",
              " 'E',\n",
              " 'F',\n",
              " 'G',\n",
              " 'H',\n",
              " 'I',\n",
              " 'K',\n",
              " 'L',\n",
              " 'M',\n",
              " 'N',\n",
              " 'P',\n",
              " 'Q',\n",
              " 'R',\n",
              " 'S',\n",
              " 'T',\n",
              " 'V',\n",
              " 'W',\n",
              " 'Y'}"
            ]
          },
          "metadata": {
            "tags": []
          },
          "execution_count": 45
        }
      ]
    },
    {
      "cell_type": "code",
      "metadata": {
        "colab": {
          "base_uri": "https://localhost:8080/"
        },
        "id": "fRaDRm4XtTX_",
        "outputId": "821a2982-2755-4750-82a1-08a7eda2d1bf"
      },
      "source": [
        "uarr_dum = pd.get_dummies(list(uarr))\n",
        "uarr_dum['Y']"
      ],
      "execution_count": 46,
      "outputs": [
        {
          "output_type": "execute_result",
          "data": {
            "text/plain": [
              "0     0\n",
              "1     0\n",
              "2     0\n",
              "3     0\n",
              "4     1\n",
              "5     0\n",
              "6     0\n",
              "7     0\n",
              "8     0\n",
              "9     0\n",
              "10    0\n",
              "11    0\n",
              "12    0\n",
              "13    0\n",
              "14    0\n",
              "15    0\n",
              "16    0\n",
              "17    0\n",
              "18    0\n",
              "19    0\n",
              "20    0\n",
              "Name: Y, dtype: uint8"
            ]
          },
          "metadata": {
            "tags": []
          },
          "execution_count": 46
        }
      ]
    },
    {
      "cell_type": "code",
      "metadata": {
        "id": "Cc31e9bPCQNH"
      },
      "source": [
        "result = []\n",
        "for line in X:\n",
        "  new_line = []\n",
        "  for char in line:\n",
        "    new_line.append(uarr_dum[char])\n",
        "  result.append(new_line)"
      ],
      "execution_count": 47,
      "outputs": []
    },
    {
      "cell_type": "code",
      "metadata": {
        "colab": {
          "base_uri": "https://localhost:8080/"
        },
        "id": "wGS-1K2psTq_",
        "outputId": "821ee05e-7269-430e-b8aa-7d468bc7e0a8"
      },
      "source": [
        "np.array(result).shape"
      ],
      "execution_count": 48,
      "outputs": [
        {
          "output_type": "execute_result",
          "data": {
            "text/plain": [
              "(1354, 34, 21)"
            ]
          },
          "metadata": {
            "tags": []
          },
          "execution_count": 48
        }
      ]
    },
    {
      "cell_type": "code",
      "metadata": {
        "id": "cXzf4srScYAQ"
      },
      "source": [
        "_X_ = np.array(result)"
      ],
      "execution_count": 49,
      "outputs": []
    },
    {
      "cell_type": "code",
      "metadata": {
        "colab": {
          "base_uri": "https://localhost:8080/"
        },
        "id": "VgyBtb5Yfj9V",
        "outputId": "7d460ea3-6c87-4bd7-a901-75f0ff603d35"
      },
      "source": [
        "labels = ['spec']\n",
        "y = np.array(y)\n",
        "y.tolist()"
      ],
      "execution_count": 50,
      "outputs": [
        {
          "output_type": "execute_result",
          "data": {
            "text/plain": [
              "['pro',\n",
              " 'pro',\n",
              " 'pro',\n",
              " 'pro',\n",
              " 'pro',\n",
              " 'pro',\n",
              " 'pro',\n",
              " 'pro',\n",
              " 'pro',\n",
              " 'pro',\n",
              " 'pro',\n",
              " 'pro',\n",
              " 'pro',\n",
              " 'pro',\n",
              " 'pro',\n",
              " 'pro',\n",
              " 'pro',\n",
              " 'pro',\n",
              " 'pro',\n",
              " 'phe',\n",
              " 'phe',\n",
              " 'phe',\n",
              " 'phe',\n",
              " 'phe',\n",
              " 'phe',\n",
              " 'phe',\n",
              " 'phe',\n",
              " 'phe',\n",
              " 'phe',\n",
              " 'phe',\n",
              " 'phe',\n",
              " 'phe',\n",
              " 'phe',\n",
              " 'phe',\n",
              " 'phe',\n",
              " 'phe',\n",
              " 'phe',\n",
              " 'phe',\n",
              " 'phe',\n",
              " 'phe',\n",
              " 'phe',\n",
              " 'phe',\n",
              " 'phe',\n",
              " 'phe',\n",
              " 'phe',\n",
              " 'phe',\n",
              " 'phe',\n",
              " 'phe',\n",
              " 'phe',\n",
              " 'phe',\n",
              " 'phe',\n",
              " 'phe',\n",
              " 'phe',\n",
              " 'phe',\n",
              " 'phe',\n",
              " 'phe',\n",
              " 'phe',\n",
              " 'phe',\n",
              " 'phe',\n",
              " 'phe',\n",
              " 'phe',\n",
              " 'phe',\n",
              " 'phe',\n",
              " 'phe',\n",
              " 'phe',\n",
              " 'phe',\n",
              " 'phe',\n",
              " 'phe',\n",
              " 'phe',\n",
              " 'phe',\n",
              " 'phe',\n",
              " 'phe',\n",
              " 'phe',\n",
              " 'phe',\n",
              " 'phe',\n",
              " 'phe',\n",
              " 'phe',\n",
              " 'phe',\n",
              " 'phe',\n",
              " 'phe',\n",
              " 'phe',\n",
              " 'phe',\n",
              " 'phe',\n",
              " 'phe',\n",
              " 'phe',\n",
              " 'phe',\n",
              " 'phe',\n",
              " 'phe',\n",
              " 'phe',\n",
              " 'phe',\n",
              " 'phe',\n",
              " 'phe',\n",
              " 'phe',\n",
              " 'phe',\n",
              " 'phe',\n",
              " 'phe',\n",
              " 'phe',\n",
              " 'phe',\n",
              " 'phe',\n",
              " 'phe',\n",
              " 'phe',\n",
              " 'phe',\n",
              " 'phe',\n",
              " 'phe',\n",
              " 'phe',\n",
              " 'phe',\n",
              " 'asn',\n",
              " 'asn',\n",
              " 'asn',\n",
              " 'asn',\n",
              " 'asn',\n",
              " 'asn',\n",
              " 'asn',\n",
              " 'asn',\n",
              " 'asn',\n",
              " 'asn',\n",
              " 'asn',\n",
              " 'asn',\n",
              " 'asn',\n",
              " 'asn',\n",
              " 'asn',\n",
              " 'asn',\n",
              " 'asn',\n",
              " 'asn',\n",
              " 'asn',\n",
              " 'gln',\n",
              " 'gln',\n",
              " 'gln',\n",
              " 'gln',\n",
              " 'gln',\n",
              " 'gln',\n",
              " 'gln',\n",
              " 'gln',\n",
              " 'gln',\n",
              " 'tyr',\n",
              " 'tyr',\n",
              " 'tyr',\n",
              " 'tyr',\n",
              " 'tyr',\n",
              " 'tyr',\n",
              " 'tyr',\n",
              " 'tyr',\n",
              " 'tyr',\n",
              " 'tyr',\n",
              " 'tyr',\n",
              " 'tyr',\n",
              " 'tyr',\n",
              " 'tyr',\n",
              " 'tyr',\n",
              " 'tyr',\n",
              " 'tyr',\n",
              " 'tyr',\n",
              " 'tyr',\n",
              " 'val',\n",
              " 'val',\n",
              " 'val',\n",
              " 'val',\n",
              " 'val',\n",
              " 'val',\n",
              " 'val',\n",
              " 'val',\n",
              " 'val',\n",
              " 'val',\n",
              " 'val',\n",
              " 'val',\n",
              " 'val',\n",
              " 'val',\n",
              " 'val',\n",
              " 'val',\n",
              " 'val',\n",
              " 'val',\n",
              " 'val',\n",
              " 'val',\n",
              " 'val',\n",
              " 'val',\n",
              " 'val',\n",
              " 'val',\n",
              " 'val',\n",
              " 'val',\n",
              " 'val',\n",
              " 'val',\n",
              " 'val',\n",
              " 'val',\n",
              " 'val',\n",
              " 'val',\n",
              " 'val',\n",
              " 'val',\n",
              " 'orn',\n",
              " 'orn',\n",
              " 'orn',\n",
              " 'orn',\n",
              " 'orn',\n",
              " 'orn',\n",
              " 'orn',\n",
              " 'orn',\n",
              " 'orn',\n",
              " 'orn',\n",
              " 'orn',\n",
              " 'orn',\n",
              " 'orn',\n",
              " 'orn',\n",
              " 'orn',\n",
              " 'leu',\n",
              " 'leu',\n",
              " 'leu',\n",
              " 'leu',\n",
              " 'leu',\n",
              " 'leu',\n",
              " 'leu',\n",
              " 'leu',\n",
              " 'leu',\n",
              " 'leu',\n",
              " 'leu',\n",
              " 'leu',\n",
              " 'leu',\n",
              " 'leu',\n",
              " 'leu',\n",
              " 'leu',\n",
              " 'leu',\n",
              " 'leu',\n",
              " 'leu',\n",
              " 'leu',\n",
              " 'leu',\n",
              " 'leu',\n",
              " 'leu',\n",
              " 'leu',\n",
              " 'leu',\n",
              " 'leu',\n",
              " 'leu',\n",
              " 'leu',\n",
              " 'leu',\n",
              " 'leu',\n",
              " 'leu',\n",
              " 'leu',\n",
              " 'leu',\n",
              " 'leu',\n",
              " 'ile',\n",
              " 'ile',\n",
              " 'ile',\n",
              " 'ile',\n",
              " 'ile',\n",
              " 'ile',\n",
              " 'ile',\n",
              " 'ile',\n",
              " 'ile',\n",
              " 'ile',\n",
              " 'ile',\n",
              " 'ile',\n",
              " 'ile',\n",
              " 'cys',\n",
              " 'cys',\n",
              " 'cys',\n",
              " 'cys',\n",
              " 'cys',\n",
              " 'cys',\n",
              " 'cys',\n",
              " 'cys',\n",
              " 'cys',\n",
              " 'cys',\n",
              " 'cys',\n",
              " 'cys',\n",
              " 'cys',\n",
              " 'cys',\n",
              " 'cys',\n",
              " 'cys',\n",
              " 'cys',\n",
              " 'cys',\n",
              " 'cys',\n",
              " 'cys',\n",
              " 'cys',\n",
              " 'cys',\n",
              " 'cys',\n",
              " 'cys',\n",
              " 'cys',\n",
              " 'cys',\n",
              " 'cys',\n",
              " 'cys',\n",
              " 'cys',\n",
              " 'cys',\n",
              " 'cys',\n",
              " 'cys',\n",
              " 'cys',\n",
              " 'glu',\n",
              " 'glu',\n",
              " 'glu',\n",
              " 'glu',\n",
              " 'glu',\n",
              " 'glu',\n",
              " 'glu',\n",
              " 'glu',\n",
              " 'glu',\n",
              " 'glu',\n",
              " 'glu',\n",
              " 'glu',\n",
              " 'glu',\n",
              " 'glu',\n",
              " 'glu',\n",
              " 'glu',\n",
              " 'glu',\n",
              " 'glu',\n",
              " 'glu',\n",
              " 'glu',\n",
              " 'glu',\n",
              " 'glu',\n",
              " 'glu',\n",
              " 'lys',\n",
              " 'lys',\n",
              " 'lys',\n",
              " 'lys',\n",
              " 'lys',\n",
              " 'lys',\n",
              " 'lys',\n",
              " 'asp',\n",
              " 'asp',\n",
              " 'asp',\n",
              " 'asp',\n",
              " 'asp',\n",
              " 'asp',\n",
              " 'asp',\n",
              " 'asp',\n",
              " 'asp',\n",
              " 'asp',\n",
              " 'asp',\n",
              " 'asp',\n",
              " 'asp',\n",
              " 'asp',\n",
              " 'asp',\n",
              " 'asp',\n",
              " 'asp',\n",
              " 'asp',\n",
              " 'asp',\n",
              " 'asp',\n",
              " 'asp',\n",
              " 'asp',\n",
              " 'asp',\n",
              " 'asp',\n",
              " 'asp',\n",
              " 'thr',\n",
              " 'thr',\n",
              " 'thr',\n",
              " 'thr',\n",
              " 'thr',\n",
              " 'thr',\n",
              " 'thr',\n",
              " 'thr',\n",
              " 'thr',\n",
              " 'thr',\n",
              " 'thr',\n",
              " 'thr',\n",
              " 'thr',\n",
              " 'thr',\n",
              " 'thr',\n",
              " 'thr',\n",
              " 'thr',\n",
              " 'thr',\n",
              " 'thr',\n",
              " 'thr',\n",
              " 'thr',\n",
              " 'thr',\n",
              " 'thr',\n",
              " 'thr',\n",
              " 'thr',\n",
              " 'thr',\n",
              " 'thr',\n",
              " 'thr',\n",
              " 'thr',\n",
              " 'thr',\n",
              " 'thr',\n",
              " 'thr',\n",
              " 'thr',\n",
              " 'thr',\n",
              " 'trp',\n",
              " 'trp',\n",
              " 'trp',\n",
              " 'trp',\n",
              " 'trp',\n",
              " 'trp',\n",
              " 'trp',\n",
              " 'trp',\n",
              " 'trp',\n",
              " 'trp',\n",
              " 'trp',\n",
              " 'trp',\n",
              " 'trp',\n",
              " 'trp',\n",
              " 'gly',\n",
              " 'gly',\n",
              " 'gly',\n",
              " 'gly',\n",
              " 'gly',\n",
              " 'gly',\n",
              " 'gly',\n",
              " 'gly',\n",
              " 'gly',\n",
              " 'gly',\n",
              " 'gly',\n",
              " 'gly',\n",
              " 'gly',\n",
              " 'gly',\n",
              " 'gly',\n",
              " 'gly',\n",
              " 'gly',\n",
              " 'gly',\n",
              " 'gly',\n",
              " 'gly',\n",
              " 'gly',\n",
              " 'gly',\n",
              " 'gly',\n",
              " 'gly',\n",
              " 'ala',\n",
              " 'ala',\n",
              " 'ala',\n",
              " 'ala',\n",
              " 'ala',\n",
              " 'ala',\n",
              " 'ala',\n",
              " 'ala',\n",
              " 'ala',\n",
              " 'ala',\n",
              " 'ala',\n",
              " 'ala',\n",
              " 'ala',\n",
              " 'ala',\n",
              " 'ala',\n",
              " 'ala',\n",
              " 'ala',\n",
              " 'ala',\n",
              " 'ala',\n",
              " 'ala',\n",
              " 'ala',\n",
              " 'ala',\n",
              " 'ala',\n",
              " 'ala',\n",
              " 'ala',\n",
              " 'ala',\n",
              " 'ala',\n",
              " 'ala',\n",
              " 'ala',\n",
              " 'ala',\n",
              " 'ala',\n",
              " 'ala',\n",
              " 'ala',\n",
              " 'ala',\n",
              " 'ala',\n",
              " 'ala',\n",
              " 'ala',\n",
              " 'ala',\n",
              " 'ala',\n",
              " 'ala',\n",
              " 'ala',\n",
              " 'ala',\n",
              " 'ala',\n",
              " 'ala',\n",
              " 'ala',\n",
              " 'ala',\n",
              " 'ala',\n",
              " 'ala',\n",
              " 'ala',\n",
              " 'ala',\n",
              " 'ala',\n",
              " 'ala',\n",
              " 'ala',\n",
              " 'ala',\n",
              " 'ala',\n",
              " 'ala',\n",
              " 'ala',\n",
              " 'ala',\n",
              " 'ala',\n",
              " 'ala',\n",
              " 'ala',\n",
              " 'ala',\n",
              " 'ala',\n",
              " 'ala',\n",
              " 'ala',\n",
              " 'ala',\n",
              " 'ala',\n",
              " 'ala',\n",
              " 'ala',\n",
              " 'ala',\n",
              " 'ala',\n",
              " 'ala',\n",
              " 'ala',\n",
              " 'ala',\n",
              " 'ala',\n",
              " 'ala',\n",
              " 'ala',\n",
              " 'ala',\n",
              " 'ala',\n",
              " 'ala',\n",
              " 'ala',\n",
              " 'ala',\n",
              " 'ala',\n",
              " 'ala',\n",
              " 'ala',\n",
              " 'ala',\n",
              " 'ala',\n",
              " 'ala',\n",
              " 'ala',\n",
              " 'ala',\n",
              " 'ala',\n",
              " 'ala',\n",
              " 'ala',\n",
              " 'ala',\n",
              " 'ala',\n",
              " 'ala',\n",
              " 'ala',\n",
              " 'ala',\n",
              " 'ala',\n",
              " 'ala',\n",
              " 'ala',\n",
              " 'ala',\n",
              " 'ala',\n",
              " 'ala',\n",
              " 'ala',\n",
              " 'ala',\n",
              " 'ala',\n",
              " 'ala',\n",
              " 'ala',\n",
              " 'ala',\n",
              " 'ala',\n",
              " 'ala',\n",
              " 'ala',\n",
              " 'ala',\n",
              " 'ala',\n",
              " 'ala',\n",
              " 'ala',\n",
              " 'ala',\n",
              " 'ala',\n",
              " 'ala',\n",
              " 'ala',\n",
              " 'ala',\n",
              " 'ala',\n",
              " 'ala',\n",
              " 'ala',\n",
              " 'ala',\n",
              " 'ala',\n",
              " 'ala',\n",
              " 'ala',\n",
              " 'ala',\n",
              " 'ala',\n",
              " 'ala',\n",
              " 'ala',\n",
              " 'ala',\n",
              " 'ala',\n",
              " 'ala',\n",
              " 'ala',\n",
              " 'ala',\n",
              " 'ala',\n",
              " 'ala',\n",
              " 'ala',\n",
              " 'ala',\n",
              " 'ala',\n",
              " 'ala',\n",
              " 'ala',\n",
              " 'ala',\n",
              " 'ala',\n",
              " 'ala',\n",
              " 'ala',\n",
              " 'ala',\n",
              " 'ala',\n",
              " 'ala',\n",
              " 'ala',\n",
              " 'ala',\n",
              " 'ala',\n",
              " 'ala',\n",
              " 'ala',\n",
              " 'ala',\n",
              " 'ala',\n",
              " 'ala',\n",
              " 'ala',\n",
              " 'ala',\n",
              " 'ala',\n",
              " 'ala',\n",
              " 'ala',\n",
              " 'ala',\n",
              " 'ala',\n",
              " 'ala',\n",
              " 'ala',\n",
              " 'ala',\n",
              " 'ala',\n",
              " 'ala',\n",
              " 'ala',\n",
              " 'ala',\n",
              " 'ala',\n",
              " 'ala',\n",
              " 'ala',\n",
              " 'ala',\n",
              " 'ala',\n",
              " 'ala',\n",
              " 'ala',\n",
              " 'ala',\n",
              " 'ala',\n",
              " 'ala',\n",
              " 'ala',\n",
              " 'ala',\n",
              " 'ala',\n",
              " 'ala',\n",
              " 'ala',\n",
              " 'ala',\n",
              " 'ala',\n",
              " 'ala',\n",
              " 'ala',\n",
              " 'ala',\n",
              " 'ala',\n",
              " 'ala',\n",
              " 'ala',\n",
              " 'ala',\n",
              " 'ala',\n",
              " 'ala',\n",
              " 'ala',\n",
              " 'ala',\n",
              " 'ala',\n",
              " 'ala',\n",
              " 'ala',\n",
              " 'ala',\n",
              " 'ala',\n",
              " 'ala',\n",
              " 'ala',\n",
              " 'ala',\n",
              " 'ala',\n",
              " 'ala',\n",
              " 'ala',\n",
              " 'ala',\n",
              " 'ala',\n",
              " 'ala',\n",
              " 'ala',\n",
              " 'ala',\n",
              " 'ala',\n",
              " 'ala',\n",
              " 'ala',\n",
              " 'ala',\n",
              " 'ala',\n",
              " 'ala',\n",
              " 'ala',\n",
              " 'ala',\n",
              " 'ala',\n",
              " 'ala',\n",
              " 'ala',\n",
              " 'ala',\n",
              " 'ala',\n",
              " 'ala',\n",
              " 'ala',\n",
              " 'ala',\n",
              " 'ala',\n",
              " 'ala',\n",
              " 'ala',\n",
              " 'ala',\n",
              " 'ala',\n",
              " 'ala',\n",
              " 'ala',\n",
              " 'ala',\n",
              " 'ala',\n",
              " 'ala',\n",
              " 'ala',\n",
              " 'ala',\n",
              " 'ala',\n",
              " 'ala',\n",
              " 'ala',\n",
              " 'ala',\n",
              " 'ala',\n",
              " 'ala',\n",
              " 'ala',\n",
              " 'ala',\n",
              " 'ala',\n",
              " 'ala',\n",
              " 'ala',\n",
              " 'ala',\n",
              " 'ala',\n",
              " 'ala',\n",
              " 'ala',\n",
              " 'ala',\n",
              " 'ala',\n",
              " 'ala',\n",
              " 'ala',\n",
              " 'ala',\n",
              " 'ala',\n",
              " 'ala',\n",
              " 'ala',\n",
              " 'ala',\n",
              " 'ala',\n",
              " 'ala',\n",
              " 'ala',\n",
              " 'ala',\n",
              " 'ala',\n",
              " 'ala',\n",
              " 'ala',\n",
              " 'ala',\n",
              " 'ala',\n",
              " 'ala',\n",
              " 'ala',\n",
              " 'ala',\n",
              " 'ala',\n",
              " 'ala',\n",
              " 'ala',\n",
              " 'ala',\n",
              " 'ala',\n",
              " 'ala',\n",
              " 'ala',\n",
              " 'ala',\n",
              " 'ala',\n",
              " 'ala',\n",
              " 'ala',\n",
              " 'ala',\n",
              " 'ala',\n",
              " 'ala',\n",
              " 'ala',\n",
              " 'ala',\n",
              " 'ala',\n",
              " 'ala',\n",
              " 'ala',\n",
              " 'ala',\n",
              " 'ala',\n",
              " 'ala',\n",
              " 'ala',\n",
              " 'ala',\n",
              " 'ala',\n",
              " 'ala',\n",
              " 'ala',\n",
              " 'ala',\n",
              " 'ala',\n",
              " 'ala',\n",
              " 'ala',\n",
              " 'ala',\n",
              " 'ala',\n",
              " 'ala',\n",
              " 'ala',\n",
              " 'ala',\n",
              " 'ala',\n",
              " 'ala',\n",
              " 'ala',\n",
              " 'ala',\n",
              " 'ala',\n",
              " 'ala',\n",
              " 'ala',\n",
              " 'ala',\n",
              " 'ala',\n",
              " 'ala',\n",
              " 'ala',\n",
              " 'ala',\n",
              " 'ala',\n",
              " 'ala',\n",
              " 'ala',\n",
              " 'ala',\n",
              " 'ala',\n",
              " 'ala',\n",
              " 'ala',\n",
              " 'ala',\n",
              " 'ala',\n",
              " 'ala',\n",
              " 'ala',\n",
              " 'ala',\n",
              " 'ala',\n",
              " 'ala',\n",
              " 'ala',\n",
              " 'ala',\n",
              " 'ala',\n",
              " 'ala',\n",
              " 'ala',\n",
              " 'ala',\n",
              " 'ala',\n",
              " 'ala',\n",
              " 'ala',\n",
              " 'ala',\n",
              " 'ala',\n",
              " 'ala',\n",
              " 'ala',\n",
              " 'ala',\n",
              " 'ala',\n",
              " 'ala',\n",
              " 'ala',\n",
              " 'ala',\n",
              " 'ala',\n",
              " 'ala',\n",
              " 'ala',\n",
              " 'ala',\n",
              " 'ala',\n",
              " 'ala',\n",
              " 'ala',\n",
              " 'ala',\n",
              " 'ala',\n",
              " 'ala',\n",
              " 'ala',\n",
              " 'ala',\n",
              " 'ala',\n",
              " 'ala',\n",
              " 'ala',\n",
              " 'ala',\n",
              " 'ala',\n",
              " 'ala',\n",
              " 'ala',\n",
              " 'ala',\n",
              " 'ala',\n",
              " 'ala',\n",
              " 'ala',\n",
              " 'ala',\n",
              " 'ala',\n",
              " 'ala',\n",
              " 'ala',\n",
              " 'ala',\n",
              " 'ala',\n",
              " 'ala',\n",
              " 'ala',\n",
              " 'ala',\n",
              " 'ala',\n",
              " 'ala',\n",
              " 'ala',\n",
              " 'ala',\n",
              " 'ala',\n",
              " 'ala',\n",
              " 'ala',\n",
              " 'ala',\n",
              " 'ala',\n",
              " 'ala',\n",
              " 'ala',\n",
              " 'ala',\n",
              " 'ala',\n",
              " 'ala',\n",
              " 'ala',\n",
              " 'ala',\n",
              " 'ala',\n",
              " 'ala',\n",
              " 'ala',\n",
              " 'ala',\n",
              " 'ala',\n",
              " 'ala',\n",
              " 'ala',\n",
              " 'ala',\n",
              " 'ala',\n",
              " 'ala',\n",
              " 'ala',\n",
              " 'ala',\n",
              " 'ala',\n",
              " 'ala',\n",
              " 'ala',\n",
              " 'ala',\n",
              " 'ala',\n",
              " 'ala',\n",
              " 'ala',\n",
              " 'ala',\n",
              " 'ala',\n",
              " 'ala',\n",
              " 'ala',\n",
              " 'ala',\n",
              " 'ala',\n",
              " 'ala',\n",
              " 'ala',\n",
              " 'ala',\n",
              " 'ala',\n",
              " 'ala',\n",
              " 'ala',\n",
              " 'ala',\n",
              " 'ala',\n",
              " 'ala',\n",
              " 'ala',\n",
              " 'ala',\n",
              " 'ala',\n",
              " 'ala',\n",
              " 'ala',\n",
              " 'ala',\n",
              " 'ala',\n",
              " 'ala',\n",
              " 'ala',\n",
              " 'ala',\n",
              " 'ala',\n",
              " 'ala',\n",
              " 'ala',\n",
              " 'ala',\n",
              " 'ala',\n",
              " 'ala',\n",
              " 'ala',\n",
              " 'ala',\n",
              " 'ala',\n",
              " 'ala',\n",
              " 'ala',\n",
              " 'ala',\n",
              " 'ala',\n",
              " 'ala',\n",
              " 'ala',\n",
              " 'ala',\n",
              " 'ala',\n",
              " 'ala',\n",
              " 'ala',\n",
              " 'ala',\n",
              " 'ala',\n",
              " 'ala',\n",
              " 'ala',\n",
              " 'ala',\n",
              " 'ala',\n",
              " 'ala',\n",
              " 'ala',\n",
              " 'ala',\n",
              " 'ala',\n",
              " 'ala',\n",
              " 'ala',\n",
              " 'ala',\n",
              " 'ala',\n",
              " 'ala',\n",
              " 'ala',\n",
              " 'ala',\n",
              " 'ala',\n",
              " 'ala',\n",
              " 'ala',\n",
              " 'ala',\n",
              " 'ala',\n",
              " 'ala',\n",
              " 'ala',\n",
              " 'ala',\n",
              " 'ala',\n",
              " 'ala',\n",
              " 'ala',\n",
              " 'ala',\n",
              " 'ala',\n",
              " 'ala',\n",
              " 'ala',\n",
              " 'ala',\n",
              " 'ala',\n",
              " 'ala',\n",
              " 'ala',\n",
              " 'ala',\n",
              " 'ala',\n",
              " 'ala',\n",
              " 'ala',\n",
              " 'ala',\n",
              " 'ala',\n",
              " 'ala',\n",
              " 'ala',\n",
              " 'ala',\n",
              " 'ala',\n",
              " 'ala',\n",
              " 'ala',\n",
              " 'ala',\n",
              " 'ala',\n",
              " 'ala',\n",
              " 'ala',\n",
              " 'ala',\n",
              " 'ala',\n",
              " 'ala',\n",
              " 'ala',\n",
              " 'ala',\n",
              " 'ala',\n",
              " 'ala',\n",
              " 'ala',\n",
              " 'ala',\n",
              " 'ala',\n",
              " 'ala',\n",
              " 'ala',\n",
              " 'ala',\n",
              " 'ala',\n",
              " 'ala',\n",
              " 'ala',\n",
              " 'ala',\n",
              " 'ala',\n",
              " 'ala',\n",
              " 'ala',\n",
              " 'ala',\n",
              " 'ala',\n",
              " 'ala',\n",
              " 'ala',\n",
              " 'ala',\n",
              " 'ala',\n",
              " 'ala',\n",
              " 'ser',\n",
              " 'ser',\n",
              " 'ser',\n",
              " 'ser',\n",
              " 'ser',\n",
              " 'ser',\n",
              " 'ser',\n",
              " 'ser',\n",
              " 'ser',\n",
              " 'ser',\n",
              " 'ser',\n",
              " 'ser',\n",
              " 'ser',\n",
              " 'ser',\n",
              " 'ser',\n",
              " 'ser',\n",
              " 'ser',\n",
              " 'ser',\n",
              " 'ser',\n",
              " 'ser',\n",
              " 'ser',\n",
              " 'ser',\n",
              " 'ser',\n",
              " 'ser',\n",
              " 'ser',\n",
              " 'ser',\n",
              " 'ser',\n",
              " 'ser',\n",
              " 'ser',\n",
              " 'ser',\n",
              " 'dhb',\n",
              " 'dhb',\n",
              " 'dhb',\n",
              " 'dhb',\n",
              " 'dhb',\n",
              " 'dhb',\n",
              " 'dhb',\n",
              " 'dhb',\n",
              " 'dhb',\n",
              " ...]"
            ]
          },
          "metadata": {
            "tags": []
          },
          "execution_count": 50
        }
      ]
    },
    {
      "cell_type": "code",
      "metadata": {
        "colab": {
          "base_uri": "https://localhost:8080/"
        },
        "id": "qMQmn4cSQlpn",
        "outputId": "1c7b4eff-61ae-4caf-cc9c-77d09b8fe30c"
      },
      "source": [
        "_X_.shape, y.shape"
      ],
      "execution_count": 51,
      "outputs": [
        {
          "output_type": "execute_result",
          "data": {
            "text/plain": [
              "((1354, 34, 21), (1354,))"
            ]
          },
          "metadata": {
            "tags": []
          },
          "execution_count": 51
        }
      ]
    },
    {
      "cell_type": "code",
      "metadata": {
        "id": "5o2lr1kXo4lY"
      },
      "source": [
        "X_train, X_test, y_train, y_test = train_test_split(_X_, y, train_size = 0.8)"
      ],
      "execution_count": 72,
      "outputs": []
    },
    {
      "cell_type": "code",
      "metadata": {
        "colab": {
          "base_uri": "https://localhost:8080/"
        },
        "id": "yqcNhQGdQoRX",
        "outputId": "d2793010-4821-4f13-b2be-dce14d15a7d9"
      },
      "source": [
        "X_train.shape, y_train.shape"
      ],
      "execution_count": 73,
      "outputs": [
        {
          "output_type": "execute_result",
          "data": {
            "text/plain": [
              "((1083, 34, 21), (1083,))"
            ]
          },
          "metadata": {
            "tags": []
          },
          "execution_count": 73
        }
      ]
    },
    {
      "cell_type": "code",
      "metadata": {
        "id": "BnkjY5MXRW-B"
      },
      "source": [
        "X_train = X_train.reshape(X_train.shape[0],-1)\n",
        "X_test =  X_test.reshape(X_test.shape[0],-1)"
      ],
      "execution_count": 74,
      "outputs": []
    },
    {
      "cell_type": "code",
      "metadata": {
        "id": "Kugt7TAuTapo"
      },
      "source": [
        "labels = sorted(set(data['spec'].unique()))"
      ],
      "execution_count": 75,
      "outputs": []
    },
    {
      "cell_type": "markdown",
      "metadata": {
        "id": "CvxEE7R3er_H"
      },
      "source": [
        "# Naive Bayes"
      ]
    },
    {
      "cell_type": "code",
      "metadata": {
        "colab": {
          "base_uri": "https://localhost:8080/",
          "height": 1000
        },
        "id": "5Bvvh0rhRqWb",
        "outputId": "ee102653-24ae-4455-b8e6-4e979fdbd4d4"
      },
      "source": [
        "# Create a Gaussian classifier\n",
        "nb_model = GaussianNB()\n",
        "\n",
        "kf = KFold(n_splits=10)\n",
        "results = cross_val_score(nb_model, X_train, y_train, cv=kf)\n",
        "print('Cross Validation accuracy scores: %s' % results)\n",
        "print('Cross Validation accuracy: %.3f +/- %.3f' % (np.mean(results),\n",
        "                                                    np.std(results)))\n",
        "print('===================')\n",
        "\n",
        "nb_model.fit(X_train, y_train)\n",
        "\n",
        "nb_pred = nb_model.predict(X_test)\n",
        "\n",
        "print('Naive Bayes accuracy:', round(accuracy_score(y_test, nb_pred), 3))\n",
        "print('Naive Bayes macro f1-score:', round(f1_score(y_test, nb_pred, average='macro'), 3))\n",
        "print(classification_report(y_test, nb_model.predict(X_test)))\n",
        "\n",
        "cm_nb = confusion_matrix(y_test, nb_pred, labels=labels)\n",
        "\n",
        "k = 10\n",
        "cm_nb[cm_nb > k] = k\n",
        "\n",
        "fig, ax = plt.subplots(figsize=(10,10))\n",
        "sns.heatmap(cm_nb, ax=ax, fmt='g', cmap='Greens', \n",
        "            xticklabels=labels, yticklabels=labels, \n",
        "            linewidth=1, linecolor='grey') \n",
        "\n",
        "# labels, title and ticks\n",
        "_ = ax.set_xlabel('Predicted labels')\n",
        "_ = ax.set_ylabel('True labels') \n",
        "_ = ax.set_title('Naive Bayes Confusion Matrix') "
      ],
      "execution_count": 76,
      "outputs": [
        {
          "output_type": "stream",
          "text": [
            "Cross Validation accuracy scores: [0.76146789 0.87155963 0.85321101 0.87962963 0.7962963  0.84259259\n",
            " 0.77777778 0.84259259 0.83333333 0.85185185]\n",
            "Cross Validation accuracy: 0.831 +/- 0.038\n",
            "===================\n",
            "Naive Bayes accuracy: 0.841\n",
            "Naive Bayes macro f1-score: 0.63\n",
            "              precision    recall  f1-score   support\n",
            "\n",
            "         aad       1.00      0.75      0.86         8\n",
            "         ala       1.00      0.97      0.98       119\n",
            "         arg       0.00      0.00      0.00         1\n",
            "         asn       1.00      0.50      0.67         4\n",
            "         asp       0.83      0.83      0.83         6\n",
            "    beta-ala       0.00      0.00      0.00         2\n",
            "         bht       1.00      1.00      1.00         2\n",
            "         cys       0.89      0.89      0.89         9\n",
            "         dab       1.00      1.00      1.00         3\n",
            "         dhb       1.00      0.98      0.99        43\n",
            "         dht       0.00      0.00      0.00         0\n",
            "         glu       0.60      0.43      0.50         7\n",
            "         gly       1.00      0.67      0.80         6\n",
            "        horn       1.00      1.00      1.00         1\n",
            "         hpg       1.00      1.00      1.00         4\n",
            "         ile       1.00      0.50      0.67         2\n",
            "         leu       1.00      0.67      0.80         6\n",
            "         lys       1.00      1.00      1.00         1\n",
            "         orn       0.00      0.00      0.00         1\n",
            "         phe       0.33      0.82      0.47        17\n",
            "         pip       1.00      0.33      0.50         3\n",
            "         pro       0.17      0.50      0.25         2\n",
            "         ser       1.00      0.50      0.67         4\n",
            "         thr       1.00      0.25      0.40         4\n",
            "         trp       1.00      0.17      0.29         6\n",
            "         tyr       0.75      0.60      0.67         5\n",
            "         val       0.80      0.80      0.80         5\n",
            "\n",
            "    accuracy                           0.84       271\n",
            "   macro avg       0.75      0.60      0.63       271\n",
            "weighted avg       0.91      0.84      0.85       271\n",
            "\n"
          ],
          "name": "stdout"
        },
        {
          "output_type": "stream",
          "text": [
            "/usr/local/lib/python3.7/dist-packages/sklearn/metrics/_classification.py:1272: UndefinedMetricWarning: Precision and F-score are ill-defined and being set to 0.0 in labels with no predicted samples. Use `zero_division` parameter to control this behavior.\n",
            "  _warn_prf(average, modifier, msg_start, len(result))\n",
            "/usr/local/lib/python3.7/dist-packages/sklearn/metrics/_classification.py:1272: UndefinedMetricWarning: Recall and F-score are ill-defined and being set to 0.0 in labels with no true samples. Use `zero_division` parameter to control this behavior.\n",
            "  _warn_prf(average, modifier, msg_start, len(result))\n"
          ],
          "name": "stderr"
        },
        {
          "output_type": "display_data",
          "data": {
            "image/png": "[encoded data removed]",
            "text/plain": [
              "<Figure size 720x720 with 2 Axes>"
            ]
          },
          "metadata": {
            "tags": [],
            "needs_background": "light"
          }
        }
      ]
    },
    {
      "cell_type": "markdown",
      "metadata": {
        "id": "Xa7_Z1hVegbj"
      },
      "source": [
        "# Catboost"
      ]
    },
    {
      "cell_type": "code",
      "metadata": {
        "id": "GI_-DiSkv1oX"
      },
      "source": [
        "# cat = CatBoostClassifier()\n",
        "# params = {  \n",
        "#     \"max_depth\": [7],\n",
        "#     \"learning_rate\": [0.4],\n",
        "#     \"iterations\": [75]\n",
        "# }\n",
        "\n",
        "# search_cat = GridSearchCV(estimator=cat, param_grid = params, n_jobs=-1)\n",
        "# kf = KFold(n_splits=10)\n",
        "# results = cross_val_score(search_cat, X_train, y_train, cv=kf)\n",
        "# print('Cross Validation accuracy scores: %s' % results)\n",
        "# print('Cross Validation accuracy: %.3f +/- %.3f' % (np.mean(results),\n",
        "#                                                     np.std(results)))\n",
        "# print('===================')\n",
        "\n",
        "# search_cat.fit(X_train, y_train)\n",
        "# print(search_cat.best_params_)\n",
        "\n",
        "# print(classification_report(y_test, search_cat.best_estimator_.predict(X_test)))"
      ],
      "execution_count": 201,
      "outputs": []
    },
    {
      "cell_type": "markdown",
      "metadata": {
        "id": "58LAHoXzeYSd"
      },
      "source": [
        "# Logistic Regression"
      ]
    },
    {
      "cell_type": "code",
      "metadata": {
        "colab": {
          "base_uri": "https://localhost:8080/",
          "height": 1000
        },
        "id": "3ED7PxK7e0w8",
        "outputId": "3df0049e-52c9-4272-d962-2cd210295196"
      },
      "source": [
        "log_grid = {'C': [3], \n",
        "                 'penalty': ['l2'],\n",
        "            'solver' : ['liblinear']\n",
        "            }\n",
        "\n",
        "log_estimator = LogisticRegression(solver='liblinear')\n",
        "\n",
        "log_model = GridSearchCV(estimator=log_estimator, \n",
        "                  param_grid=log_grid, \n",
        "                  cv=3,\n",
        "                  scoring='accuracy')\n",
        "\n",
        "kf = KFold(n_splits=10)\n",
        "results = cross_val_score(log_model, X_train, y_train, cv=kf)\n",
        "print('Cross Validation accuracy scores: %s' % results)\n",
        "print('Cross Validation accuracy: %.3f +/- %.3f' % (np.mean(results), \n",
        "                                                    np.std(results)))\n",
        "print('===================')\n",
        "\n",
        "\n",
        "log_model.fit(X_train, y_train)\n",
        "\n",
        "print(\"Best Parameters:\\n\", log_model.best_params_)\n",
        "\n",
        "# Select best log model\n",
        "best_log = log_model.best_estimator_\n",
        "\n",
        "# Make predictions using the optimised parameters\n",
        "log_pred = best_log.predict(X_test)\n",
        "\n",
        "print('Logistic Regression accuracy:', round(accuracy_score(y_test, log_pred), 3))\n",
        "print('Logistic Regression macro f1-score:', round(f1_score(y_test, nb_pred, average='macro'), 3))\n",
        "print(classification_report(y_test, best_log.predict(X_test)))\n",
        "\n",
        "cm_log = confusion_matrix(y_test, log_pred, labels=labels)\n",
        "\n",
        "k = 7\n",
        "cm_log[cm_log > k] = k\n",
        "\n",
        "fig, ax = plt.subplots(figsize=(10,10))\n",
        "sns.heatmap(cm_log, ax=ax, fmt='g', cmap='Greens', \n",
        "            xticklabels=labels, yticklabels=labels, \n",
        "            linewidth=1, linecolor='grey') \n",
        "\n",
        "# labels, title and ticks\n",
        "_ = ax.set_xlabel('Predicted labels')\n",
        "_ = ax.set_ylabel('True labels') \n",
        "_ = ax.set_title('Logistic Regression Confusion Matrix') "
      ],
      "execution_count": 202,
      "outputs": [
        {
          "output_type": "stream",
          "text": [
            "/usr/local/lib/python3.7/dist-packages/sklearn/model_selection/_split.py:667: UserWarning: The least populated class in y has only 2 members, which is less than n_splits=3.\n",
            "  % (min_groups, self.n_splits)), UserWarning)\n",
            "/usr/local/lib/python3.7/dist-packages/sklearn/model_selection/_split.py:667: UserWarning: The least populated class in y has only 2 members, which is less than n_splits=3.\n",
            "  % (min_groups, self.n_splits)), UserWarning)\n",
            "/usr/local/lib/python3.7/dist-packages/sklearn/model_selection/_split.py:667: UserWarning: The least populated class in y has only 2 members, which is less than n_splits=3.\n",
            "  % (min_groups, self.n_splits)), UserWarning)\n",
            "/usr/local/lib/python3.7/dist-packages/sklearn/model_selection/_split.py:667: UserWarning: The least populated class in y has only 2 members, which is less than n_splits=3.\n",
            "  % (min_groups, self.n_splits)), UserWarning)\n",
            "/usr/local/lib/python3.7/dist-packages/sklearn/model_selection/_split.py:667: UserWarning: The least populated class in y has only 2 members, which is less than n_splits=3.\n",
            "  % (min_groups, self.n_splits)), UserWarning)\n"
          ],
          "name": "stderr"
        },
        {
          "output_type": "stream",
          "text": [
            "Cross Validation accuracy scores: [0.90825688 0.87155963 0.8440367  0.85185185 0.87962963 0.82407407\n",
            " 0.85185185 0.87962963 0.84259259 0.86111111]\n",
            "Cross Validation accuracy: 0.861 +/- 0.023\n",
            "===================\n",
            "Best Parameters:\n",
            " {'C': 3, 'penalty': 'l2', 'solver': 'liblinear'}\n",
            "Logistic Regression accuracy: 0.9\n",
            "Logistic Regression macro f1-score: 0.68\n",
            "              precision    recall  f1-score   support\n",
            "\n",
            "         aad       1.00      0.78      0.88         9\n",
            "         ala       0.96      1.00      0.98       109\n",
            "         asn       1.00      1.00      1.00         3\n",
            "         asp       1.00      0.67      0.80         3\n",
            "    beta-ala       0.00      0.00      0.00         0\n",
            "         bht       1.00      1.00      1.00         1\n",
            "         cys       0.78      1.00      0.88         7\n",
            "         dab       1.00      1.00      1.00         2\n",
            "         dhb       1.00      1.00      1.00        55\n",
            "         gln       1.00      1.00      1.00         2\n",
            "         glu       0.00      0.00      0.00         2\n",
            "         gly       1.00      0.60      0.75         5\n",
            "         hpg       1.00      1.00      1.00         5\n",
            "         ile       0.75      0.75      0.75         4\n",
            "         leu       0.57      1.00      0.73         4\n",
            "         lys       0.00      0.00      0.00         1\n",
            "         orn       0.50      0.40      0.44         5\n",
            "         phe       0.80      0.63      0.71        19\n",
            "         pip       1.00      0.67      0.80         3\n",
            "         pro       0.40      0.67      0.50         3\n",
            "         ser       0.80      1.00      0.89         8\n",
            "         thr       1.00      1.00      1.00         6\n",
            "         trp       0.75      0.60      0.67         5\n",
            "         tyr       0.50      0.33      0.40         3\n",
            "         val       1.00      0.71      0.83         7\n",
            "\n",
            "    accuracy                           0.90       271\n",
            "   macro avg       0.75      0.71      0.72       271\n",
            "weighted avg       0.91      0.90      0.90       271\n",
            "\n"
          ],
          "name": "stdout"
        },
        {
          "output_type": "stream",
          "text": [
            "/usr/local/lib/python3.7/dist-packages/sklearn/metrics/_classification.py:1272: UndefinedMetricWarning: Precision and F-score are ill-defined and being set to 0.0 in labels with no predicted samples. Use `zero_division` parameter to control this behavior.\n",
            "  _warn_prf(average, modifier, msg_start, len(result))\n",
            "/usr/local/lib/python3.7/dist-packages/sklearn/metrics/_classification.py:1272: UndefinedMetricWarning: Recall and F-score are ill-defined and being set to 0.0 in labels with no true samples. Use `zero_division` parameter to control this behavior.\n",
            "  _warn_prf(average, modifier, msg_start, len(result))\n"
          ],
          "name": "stderr"
        },
        {
          "output_type": "display_data",
          "data": {
            "image/png": "[encoded data removed]",
            "text/plain": [
              "<Figure size 720x720 with 2 Axes>"
            ]
          },
          "metadata": {
            "tags": [],
            "needs_background": "light"
          }
        }
      ]
    },
    {
      "cell_type": "markdown",
      "metadata": {
        "id": "I-VOKVOeeLsj"
      },
      "source": [
        "# Random Forest"
      ]
    },
    {
      "cell_type": "code",
      "metadata": {
        "colab": {
          "base_uri": "https://localhost:8080/",
          "height": 1000
        },
        "id": "Tcg5lpP4qOoR",
        "outputId": "d3d1d2ec-a83a-4976-d7c2-d626088c777e"
      },
      "source": [
        "# Hyperparameters search grid \n",
        "rf_param_grid = {'bootstrap': [True],\n",
        "         'n_estimators': [50],\n",
        "         'max_features': [0.52],\n",
        "         'min_samples_leaf': [3],\n",
        "         'min_samples_split': [2],\n",
        "         'class_weight' : [\"balanced\"],\n",
        "                 'criterion' : ['entropy'],\n",
        "                 'max_depth' : [10],\n",
        "                 'n_jobs' : [20], 'warm_start' : [True]\n",
        "        }\n",
        "\n",
        "# Instantiate random forest classifier\n",
        "rf_estimator = RandomForestClassifier(random_state=0)\n",
        "\n",
        "# Create the GridSearchCV object\n",
        "rf_model = GridSearchCV(estimator=rf_estimator, param_grid=rf_param_grid, cv=3, scoring='accuracy')\n",
        "\n",
        "\n",
        "kf = KFold(n_splits=10)\n",
        "results = cross_val_score(rf_model, X_train, y_train, cv=kf)\n",
        "print('Cross Validation accuracy scores: %s' % results)\n",
        "print('Cross Validation accuracy: %.3f +/- %.3f' % (np.mean(results),np.std(results)))\n",
        "print('===================')\n",
        "\n",
        "# Fine-tune the hyperparameters\n",
        "rf_model.fit(X_train, y_train)\n",
        "\n",
        "print(\"Best Parameters:\\n\", rf_model.best_params_)\n",
        "\n",
        "# Get the best model\n",
        "rf_model_best = rf_model.best_estimator_\n",
        "\n",
        "# Make predictions using the optimised parameters\n",
        "rf_pred = rf_model_best.predict(X_test)\n",
        "\n",
        "print('Random Forest accuracy:', round(accuracy_score(y_test, rf_pred), 3))\n",
        "print('Random Forest f1-score:', round(f1_score(y_test, rf_pred, average='macro'), 3))\n",
        "print(classification_report(y_test, rf_model_best.predict(X_test)))\n",
        "\n",
        "cm_rf = confusion_matrix(y_test, rf_pred, labels=labels)\n",
        "\n",
        "k = 7\n",
        "cm_rf[cm_rf > k] = k\n",
        "\n",
        "fig, ax = plt.subplots(figsize=(10,10))\n",
        "sns.heatmap(cm_rf,  ax=ax, fmt='g', cmap='Greens', \n",
        "            xticklabels=labels, yticklabels=labels, \n",
        "            linewidth=1, linecolor='grey')\n",
        "\n",
        "# labels, title and ticks\n",
        "_ = ax.set_xlabel('Predicted labels')\n",
        "_ = ax.set_ylabel('True labels') \n",
        "_ = ax.set_title('Random Forest Confusion Matrix') "
      ],
      "execution_count": 203,
      "outputs": [
        {
          "output_type": "stream",
          "text": [
            "/usr/local/lib/python3.7/dist-packages/sklearn/ensemble/_forest.py:569: UserWarning: class_weight presets \"balanced\" or \"balanced_subsample\" are not recommended for warm_start if the fitted data differs from the full dataset. In order to use \"balanced\" weights, use compute_class_weight (\"balanced\", classes, y). In place of y you can use a large enough sample of the full training set target to properly estimate the class frequency distributions. Pass the resulting weights as the class_weight parameter.\n",
            "  warn('class_weight presets \"balanced\" or '\n",
            "/usr/local/lib/python3.7/dist-packages/sklearn/ensemble/_forest.py:569: UserWarning: class_weight presets \"balanced\" or \"balanced_subsample\" are not recommended for warm_start if the fitted data differs from the full dataset. In order to use \"balanced\" weights, use compute_class_weight (\"balanced\", classes, y). In place of y you can use a large enough sample of the full training set target to properly estimate the class frequency distributions. Pass the resulting weights as the class_weight parameter.\n",
            "  warn('class_weight presets \"balanced\" or '\n",
            "/usr/local/lib/python3.7/dist-packages/sklearn/ensemble/_forest.py:569: UserWarning: class_weight presets \"balanced\" or \"balanced_subsample\" are not recommended for warm_start if the fitted data differs from the full dataset. In order to use \"balanced\" weights, use compute_class_weight (\"balanced\", classes, y). In place of y you can use a large enough sample of the full training set target to properly estimate the class frequency distributions. Pass the resulting weights as the class_weight parameter.\n",
            "  warn('class_weight presets \"balanced\" or '\n",
            "/usr/local/lib/python3.7/dist-packages/sklearn/ensemble/_forest.py:569: UserWarning: class_weight presets \"balanced\" or \"balanced_subsample\" are not recommended for warm_start if the fitted data differs from the full dataset. In order to use \"balanced\" weights, use compute_class_weight (\"balanced\", classes, y). In place of y you can use a large enough sample of the full training set target to properly estimate the class frequency distributions. Pass the resulting weights as the class_weight parameter.\n",
            "  warn('class_weight presets \"balanced\" or '\n",
            "/usr/local/lib/python3.7/dist-packages/sklearn/ensemble/_forest.py:569: UserWarning: class_weight presets \"balanced\" or \"balanced_subsample\" are not recommended for warm_start if the fitted data differs from the full dataset. In order to use \"balanced\" weights, use compute_class_weight (\"balanced\", classes, y). In place of y you can use a large enough sample of the full training set target to properly estimate the class frequency distributions. Pass the resulting weights as the class_weight parameter.\n",
            "  warn('class_weight presets \"balanced\" or '\n",
            "/usr/local/lib/python3.7/dist-packages/sklearn/ensemble/_forest.py:569: UserWarning: class_weight presets \"balanced\" or \"balanced_subsample\" are not recommended for warm_start if the fitted data differs from the full dataset. In order to use \"balanced\" weights, use compute_class_weight (\"balanced\", classes, y). In place of y you can use a large enough sample of the full training set target to properly estimate the class frequency distributions. Pass the resulting weights as the class_weight parameter.\n",
            "  warn('class_weight presets \"balanced\" or '\n",
            "/usr/local/lib/python3.7/dist-packages/sklearn/ensemble/_forest.py:569: UserWarning: class_weight presets \"balanced\" or \"balanced_subsample\" are not recommended for warm_start if the fitted data differs from the full dataset. In order to use \"balanced\" weights, use compute_class_weight (\"balanced\", classes, y). In place of y you can use a large enough sample of the full training set target to properly estimate the class frequency distributions. Pass the resulting weights as the class_weight parameter.\n",
            "  warn('class_weight presets \"balanced\" or '\n",
            "/usr/local/lib/python3.7/dist-packages/sklearn/ensemble/_forest.py:569: UserWarning: class_weight presets \"balanced\" or \"balanced_subsample\" are not recommended for warm_start if the fitted data differs from the full dataset. In order to use \"balanced\" weights, use compute_class_weight (\"balanced\", classes, y). In place of y you can use a large enough sample of the full training set target to properly estimate the class frequency distributions. Pass the resulting weights as the class_weight parameter.\n",
            "  warn('class_weight presets \"balanced\" or '\n",
            "/usr/local/lib/python3.7/dist-packages/sklearn/model_selection/_split.py:667: UserWarning: The least populated class in y has only 2 members, which is less than n_splits=3.\n",
            "  % (min_groups, self.n_splits)), UserWarning)\n",
            "/usr/local/lib/python3.7/dist-packages/sklearn/ensemble/_forest.py:569: UserWarning: class_weight presets \"balanced\" or \"balanced_subsample\" are not recommended for warm_start if the fitted data differs from the full dataset. In order to use \"balanced\" weights, use compute_class_weight (\"balanced\", classes, y). In place of y you can use a large enough sample of the full training set target to properly estimate the class frequency distributions. Pass the resulting weights as the class_weight parameter.\n",
            "  warn('class_weight presets \"balanced\" or '\n",
            "/usr/local/lib/python3.7/dist-packages/sklearn/ensemble/_forest.py:569: UserWarning: class_weight presets \"balanced\" or \"balanced_subsample\" are not recommended for warm_start if the fitted data differs from the full dataset. In order to use \"balanced\" weights, use compute_class_weight (\"balanced\", classes, y). In place of y you can use a large enough sample of the full training set target to properly estimate the class frequency distributions. Pass the resulting weights as the class_weight parameter.\n",
            "  warn('class_weight presets \"balanced\" or '\n",
            "/usr/local/lib/python3.7/dist-packages/sklearn/ensemble/_forest.py:569: UserWarning: class_weight presets \"balanced\" or \"balanced_subsample\" are not recommended for warm_start if the fitted data differs from the full dataset. In order to use \"balanced\" weights, use compute_class_weight (\"balanced\", classes, y). In place of y you can use a large enough sample of the full training set target to properly estimate the class frequency distributions. Pass the resulting weights as the class_weight parameter.\n",
            "  warn('class_weight presets \"balanced\" or '\n",
            "/usr/local/lib/python3.7/dist-packages/sklearn/ensemble/_forest.py:569: UserWarning: class_weight presets \"balanced\" or \"balanced_subsample\" are not recommended for warm_start if the fitted data differs from the full dataset. In order to use \"balanced\" weights, use compute_class_weight (\"balanced\", classes, y). In place of y you can use a large enough sample of the full training set target to properly estimate the class frequency distributions. Pass the resulting weights as the class_weight parameter.\n",
            "  warn('class_weight presets \"balanced\" or '\n",
            "/usr/local/lib/python3.7/dist-packages/sklearn/model_selection/_split.py:667: UserWarning: The least populated class in y has only 2 members, which is less than n_splits=3.\n",
            "  % (min_groups, self.n_splits)), UserWarning)\n",
            "/usr/local/lib/python3.7/dist-packages/sklearn/ensemble/_forest.py:569: UserWarning: class_weight presets \"balanced\" or \"balanced_subsample\" are not recommended for warm_start if the fitted data differs from the full dataset. In order to use \"balanced\" weights, use compute_class_weight (\"balanced\", classes, y). In place of y you can use a large enough sample of the full training set target to properly estimate the class frequency distributions. Pass the resulting weights as the class_weight parameter.\n",
            "  warn('class_weight presets \"balanced\" or '\n",
            "/usr/local/lib/python3.7/dist-packages/sklearn/ensemble/_forest.py:569: UserWarning: class_weight presets \"balanced\" or \"balanced_subsample\" are not recommended for warm_start if the fitted data differs from the full dataset. In order to use \"balanced\" weights, use compute_class_weight (\"balanced\", classes, y). In place of y you can use a large enough sample of the full training set target to properly estimate the class frequency distributions. Pass the resulting weights as the class_weight parameter.\n",
            "  warn('class_weight presets \"balanced\" or '\n",
            "/usr/local/lib/python3.7/dist-packages/sklearn/ensemble/_forest.py:569: UserWarning: class_weight presets \"balanced\" or \"balanced_subsample\" are not recommended for warm_start if the fitted data differs from the full dataset. In order to use \"balanced\" weights, use compute_class_weight (\"balanced\", classes, y). In place of y you can use a large enough sample of the full training set target to properly estimate the class frequency distributions. Pass the resulting weights as the class_weight parameter.\n",
            "  warn('class_weight presets \"balanced\" or '\n",
            "/usr/local/lib/python3.7/dist-packages/sklearn/ensemble/_forest.py:569: UserWarning: class_weight presets \"balanced\" or \"balanced_subsample\" are not recommended for warm_start if the fitted data differs from the full dataset. In order to use \"balanced\" weights, use compute_class_weight (\"balanced\", classes, y). In place of y you can use a large enough sample of the full training set target to properly estimate the class frequency distributions. Pass the resulting weights as the class_weight parameter.\n",
            "  warn('class_weight presets \"balanced\" or '\n",
            "/usr/local/lib/python3.7/dist-packages/sklearn/model_selection/_split.py:667: UserWarning: The least populated class in y has only 2 members, which is less than n_splits=3.\n",
            "  % (min_groups, self.n_splits)), UserWarning)\n",
            "/usr/local/lib/python3.7/dist-packages/sklearn/ensemble/_forest.py:569: UserWarning: class_weight presets \"balanced\" or \"balanced_subsample\" are not recommended for warm_start if the fitted data differs from the full dataset. In order to use \"balanced\" weights, use compute_class_weight (\"balanced\", classes, y). In place of y you can use a large enough sample of the full training set target to properly estimate the class frequency distributions. Pass the resulting weights as the class_weight parameter.\n",
            "  warn('class_weight presets \"balanced\" or '\n",
            "/usr/local/lib/python3.7/dist-packages/sklearn/ensemble/_forest.py:569: UserWarning: class_weight presets \"balanced\" or \"balanced_subsample\" are not recommended for warm_start if the fitted data differs from the full dataset. In order to use \"balanced\" weights, use compute_class_weight (\"balanced\", classes, y). In place of y you can use a large enough sample of the full training set target to properly estimate the class frequency distributions. Pass the resulting weights as the class_weight parameter.\n",
            "  warn('class_weight presets \"balanced\" or '\n",
            "/usr/local/lib/python3.7/dist-packages/sklearn/ensemble/_forest.py:569: UserWarning: class_weight presets \"balanced\" or \"balanced_subsample\" are not recommended for warm_start if the fitted data differs from the full dataset. In order to use \"balanced\" weights, use compute_class_weight (\"balanced\", classes, y). In place of y you can use a large enough sample of the full training set target to properly estimate the class frequency distributions. Pass the resulting weights as the class_weight parameter.\n",
            "  warn('class_weight presets \"balanced\" or '\n",
            "/usr/local/lib/python3.7/dist-packages/sklearn/ensemble/_forest.py:569: UserWarning: class_weight presets \"balanced\" or \"balanced_subsample\" are not recommended for warm_start if the fitted data differs from the full dataset. In order to use \"balanced\" weights, use compute_class_weight (\"balanced\", classes, y). In place of y you can use a large enough sample of the full training set target to properly estimate the class frequency distributions. Pass the resulting weights as the class_weight parameter.\n",
            "  warn('class_weight presets \"balanced\" or '\n",
            "/usr/local/lib/python3.7/dist-packages/sklearn/ensemble/_forest.py:569: UserWarning: class_weight presets \"balanced\" or \"balanced_subsample\" are not recommended for warm_start if the fitted data differs from the full dataset. In order to use \"balanced\" weights, use compute_class_weight (\"balanced\", classes, y). In place of y you can use a large enough sample of the full training set target to properly estimate the class frequency distributions. Pass the resulting weights as the class_weight parameter.\n",
            "  warn('class_weight presets \"balanced\" or '\n",
            "/usr/local/lib/python3.7/dist-packages/sklearn/ensemble/_forest.py:569: UserWarning: class_weight presets \"balanced\" or \"balanced_subsample\" are not recommended for warm_start if the fitted data differs from the full dataset. In order to use \"balanced\" weights, use compute_class_weight (\"balanced\", classes, y). In place of y you can use a large enough sample of the full training set target to properly estimate the class frequency distributions. Pass the resulting weights as the class_weight parameter.\n",
            "  warn('class_weight presets \"balanced\" or '\n",
            "/usr/local/lib/python3.7/dist-packages/sklearn/ensemble/_forest.py:569: UserWarning: class_weight presets \"balanced\" or \"balanced_subsample\" are not recommended for warm_start if the fitted data differs from the full dataset. In order to use \"balanced\" weights, use compute_class_weight (\"balanced\", classes, y). In place of y you can use a large enough sample of the full training set target to properly estimate the class frequency distributions. Pass the resulting weights as the class_weight parameter.\n",
            "  warn('class_weight presets \"balanced\" or '\n",
            "/usr/local/lib/python3.7/dist-packages/sklearn/ensemble/_forest.py:569: UserWarning: class_weight presets \"balanced\" or \"balanced_subsample\" are not recommended for warm_start if the fitted data differs from the full dataset. In order to use \"balanced\" weights, use compute_class_weight (\"balanced\", classes, y). In place of y you can use a large enough sample of the full training set target to properly estimate the class frequency distributions. Pass the resulting weights as the class_weight parameter.\n",
            "  warn('class_weight presets \"balanced\" or '\n",
            "/usr/local/lib/python3.7/dist-packages/sklearn/model_selection/_split.py:667: UserWarning: The least populated class in y has only 2 members, which is less than n_splits=3.\n",
            "  % (min_groups, self.n_splits)), UserWarning)\n",
            "/usr/local/lib/python3.7/dist-packages/sklearn/ensemble/_forest.py:569: UserWarning: class_weight presets \"balanced\" or \"balanced_subsample\" are not recommended for warm_start if the fitted data differs from the full dataset. In order to use \"balanced\" weights, use compute_class_weight (\"balanced\", classes, y). In place of y you can use a large enough sample of the full training set target to properly estimate the class frequency distributions. Pass the resulting weights as the class_weight parameter.\n",
            "  warn('class_weight presets \"balanced\" or '\n",
            "/usr/local/lib/python3.7/dist-packages/sklearn/ensemble/_forest.py:569: UserWarning: class_weight presets \"balanced\" or \"balanced_subsample\" are not recommended for warm_start if the fitted data differs from the full dataset. In order to use \"balanced\" weights, use compute_class_weight (\"balanced\", classes, y). In place of y you can use a large enough sample of the full training set target to properly estimate the class frequency distributions. Pass the resulting weights as the class_weight parameter.\n",
            "  warn('class_weight presets \"balanced\" or '\n",
            "/usr/local/lib/python3.7/dist-packages/sklearn/ensemble/_forest.py:569: UserWarning: class_weight presets \"balanced\" or \"balanced_subsample\" are not recommended for warm_start if the fitted data differs from the full dataset. In order to use \"balanced\" weights, use compute_class_weight (\"balanced\", classes, y). In place of y you can use a large enough sample of the full training set target to properly estimate the class frequency distributions. Pass the resulting weights as the class_weight parameter.\n",
            "  warn('class_weight presets \"balanced\" or '\n",
            "/usr/local/lib/python3.7/dist-packages/sklearn/ensemble/_forest.py:569: UserWarning: class_weight presets \"balanced\" or \"balanced_subsample\" are not recommended for warm_start if the fitted data differs from the full dataset. In order to use \"balanced\" weights, use compute_class_weight (\"balanced\", classes, y). In place of y you can use a large enough sample of the full training set target to properly estimate the class frequency distributions. Pass the resulting weights as the class_weight parameter.\n",
            "  warn('class_weight presets \"balanced\" or '\n",
            "/usr/local/lib/python3.7/dist-packages/sklearn/model_selection/_split.py:667: UserWarning: The least populated class in y has only 2 members, which is less than n_splits=3.\n",
            "  % (min_groups, self.n_splits)), UserWarning)\n",
            "/usr/local/lib/python3.7/dist-packages/sklearn/ensemble/_forest.py:569: UserWarning: class_weight presets \"balanced\" or \"balanced_subsample\" are not recommended for warm_start if the fitted data differs from the full dataset. In order to use \"balanced\" weights, use compute_class_weight (\"balanced\", classes, y). In place of y you can use a large enough sample of the full training set target to properly estimate the class frequency distributions. Pass the resulting weights as the class_weight parameter.\n",
            "  warn('class_weight presets \"balanced\" or '\n",
            "/usr/local/lib/python3.7/dist-packages/sklearn/ensemble/_forest.py:569: UserWarning: class_weight presets \"balanced\" or \"balanced_subsample\" are not recommended for warm_start if the fitted data differs from the full dataset. In order to use \"balanced\" weights, use compute_class_weight (\"balanced\", classes, y). In place of y you can use a large enough sample of the full training set target to properly estimate the class frequency distributions. Pass the resulting weights as the class_weight parameter.\n",
            "  warn('class_weight presets \"balanced\" or '\n",
            "/usr/local/lib/python3.7/dist-packages/sklearn/ensemble/_forest.py:569: UserWarning: class_weight presets \"balanced\" or \"balanced_subsample\" are not recommended for warm_start if the fitted data differs from the full dataset. In order to use \"balanced\" weights, use compute_class_weight (\"balanced\", classes, y). In place of y you can use a large enough sample of the full training set target to properly estimate the class frequency distributions. Pass the resulting weights as the class_weight parameter.\n",
            "  warn('class_weight presets \"balanced\" or '\n",
            "/usr/local/lib/python3.7/dist-packages/sklearn/ensemble/_forest.py:569: UserWarning: class_weight presets \"balanced\" or \"balanced_subsample\" are not recommended for warm_start if the fitted data differs from the full dataset. In order to use \"balanced\" weights, use compute_class_weight (\"balanced\", classes, y). In place of y you can use a large enough sample of the full training set target to properly estimate the class frequency distributions. Pass the resulting weights as the class_weight parameter.\n",
            "  warn('class_weight presets \"balanced\" or '\n",
            "/usr/local/lib/python3.7/dist-packages/sklearn/ensemble/_forest.py:569: UserWarning: class_weight presets \"balanced\" or \"balanced_subsample\" are not recommended for warm_start if the fitted data differs from the full dataset. In order to use \"balanced\" weights, use compute_class_weight (\"balanced\", classes, y). In place of y you can use a large enough sample of the full training set target to properly estimate the class frequency distributions. Pass the resulting weights as the class_weight parameter.\n",
            "  warn('class_weight presets \"balanced\" or '\n",
            "/usr/local/lib/python3.7/dist-packages/sklearn/ensemble/_forest.py:569: UserWarning: class_weight presets \"balanced\" or \"balanced_subsample\" are not recommended for warm_start if the fitted data differs from the full dataset. In order to use \"balanced\" weights, use compute_class_weight (\"balanced\", classes, y). In place of y you can use a large enough sample of the full training set target to properly estimate the class frequency distributions. Pass the resulting weights as the class_weight parameter.\n",
            "  warn('class_weight presets \"balanced\" or '\n",
            "/usr/local/lib/python3.7/dist-packages/sklearn/ensemble/_forest.py:569: UserWarning: class_weight presets \"balanced\" or \"balanced_subsample\" are not recommended for warm_start if the fitted data differs from the full dataset. In order to use \"balanced\" weights, use compute_class_weight (\"balanced\", classes, y). In place of y you can use a large enough sample of the full training set target to properly estimate the class frequency distributions. Pass the resulting weights as the class_weight parameter.\n",
            "  warn('class_weight presets \"balanced\" or '\n",
            "/usr/local/lib/python3.7/dist-packages/sklearn/ensemble/_forest.py:569: UserWarning: class_weight presets \"balanced\" or \"balanced_subsample\" are not recommended for warm_start if the fitted data differs from the full dataset. In order to use \"balanced\" weights, use compute_class_weight (\"balanced\", classes, y). In place of y you can use a large enough sample of the full training set target to properly estimate the class frequency distributions. Pass the resulting weights as the class_weight parameter.\n",
            "  warn('class_weight presets \"balanced\" or '\n",
            "/usr/local/lib/python3.7/dist-packages/sklearn/ensemble/_forest.py:569: UserWarning: class_weight presets \"balanced\" or \"balanced_subsample\" are not recommended for warm_start if the fitted data differs from the full dataset. In order to use \"balanced\" weights, use compute_class_weight (\"balanced\", classes, y). In place of y you can use a large enough sample of the full training set target to properly estimate the class frequency distributions. Pass the resulting weights as the class_weight parameter.\n",
            "  warn('class_weight presets \"balanced\" or '\n",
            "/usr/local/lib/python3.7/dist-packages/sklearn/ensemble/_forest.py:569: UserWarning: class_weight presets \"balanced\" or \"balanced_subsample\" are not recommended for warm_start if the fitted data differs from the full dataset. In order to use \"balanced\" weights, use compute_class_weight (\"balanced\", classes, y). In place of y you can use a large enough sample of the full training set target to properly estimate the class frequency distributions. Pass the resulting weights as the class_weight parameter.\n",
            "  warn('class_weight presets \"balanced\" or '\n",
            "/usr/local/lib/python3.7/dist-packages/sklearn/ensemble/_forest.py:569: UserWarning: class_weight presets \"balanced\" or \"balanced_subsample\" are not recommended for warm_start if the fitted data differs from the full dataset. In order to use \"balanced\" weights, use compute_class_weight (\"balanced\", classes, y). In place of y you can use a large enough sample of the full training set target to properly estimate the class frequency distributions. Pass the resulting weights as the class_weight parameter.\n",
            "  warn('class_weight presets \"balanced\" or '\n",
            "/usr/local/lib/python3.7/dist-packages/sklearn/ensemble/_forest.py:569: UserWarning: class_weight presets \"balanced\" or \"balanced_subsample\" are not recommended for warm_start if the fitted data differs from the full dataset. In order to use \"balanced\" weights, use compute_class_weight (\"balanced\", classes, y). In place of y you can use a large enough sample of the full training set target to properly estimate the class frequency distributions. Pass the resulting weights as the class_weight parameter.\n",
            "  warn('class_weight presets \"balanced\" or '\n"
          ],
          "name": "stderr"
        },
        {
          "output_type": "stream",
          "text": [
            "Cross Validation accuracy scores: [0.88990826 0.85321101 0.80733945 0.81481481 0.84259259 0.80555556\n",
            " 0.83333333 0.83333333 0.87037037 0.76851852]\n",
            "Cross Validation accuracy: 0.832 +/- 0.033\n",
            "===================\n"
          ],
          "name": "stdout"
        },
        {
          "output_type": "stream",
          "text": [
            "/usr/local/lib/python3.7/dist-packages/sklearn/ensemble/_forest.py:569: UserWarning: class_weight presets \"balanced\" or \"balanced_subsample\" are not recommended for warm_start if the fitted data differs from the full dataset. In order to use \"balanced\" weights, use compute_class_weight (\"balanced\", classes, y). In place of y you can use a large enough sample of the full training set target to properly estimate the class frequency distributions. Pass the resulting weights as the class_weight parameter.\n",
            "  warn('class_weight presets \"balanced\" or '\n",
            "/usr/local/lib/python3.7/dist-packages/sklearn/ensemble/_forest.py:569: UserWarning: class_weight presets \"balanced\" or \"balanced_subsample\" are not recommended for warm_start if the fitted data differs from the full dataset. In order to use \"balanced\" weights, use compute_class_weight (\"balanced\", classes, y). In place of y you can use a large enough sample of the full training set target to properly estimate the class frequency distributions. Pass the resulting weights as the class_weight parameter.\n",
            "  warn('class_weight presets \"balanced\" or '\n",
            "/usr/local/lib/python3.7/dist-packages/sklearn/ensemble/_forest.py:569: UserWarning: class_weight presets \"balanced\" or \"balanced_subsample\" are not recommended for warm_start if the fitted data differs from the full dataset. In order to use \"balanced\" weights, use compute_class_weight (\"balanced\", classes, y). In place of y you can use a large enough sample of the full training set target to properly estimate the class frequency distributions. Pass the resulting weights as the class_weight parameter.\n",
            "  warn('class_weight presets \"balanced\" or '\n",
            "/usr/local/lib/python3.7/dist-packages/sklearn/ensemble/_forest.py:569: UserWarning: class_weight presets \"balanced\" or \"balanced_subsample\" are not recommended for warm_start if the fitted data differs from the full dataset. In order to use \"balanced\" weights, use compute_class_weight (\"balanced\", classes, y). In place of y you can use a large enough sample of the full training set target to properly estimate the class frequency distributions. Pass the resulting weights as the class_weight parameter.\n",
            "  warn('class_weight presets \"balanced\" or '\n"
          ],
          "name": "stderr"
        },
        {
          "output_type": "stream",
          "text": [
            "Best Parameters:\n",
            " {'bootstrap': True, 'class_weight': 'balanced', 'criterion': 'entropy', 'max_depth': 8, 'max_features': 0.53, 'min_samples_leaf': 3, 'min_samples_split': 2, 'n_estimators': 51, 'n_jobs': 20, 'warm_start': True}\n",
            "Random Forest accuracy: 0.856\n",
            "Random Forest f1-score: 0.608\n"
          ],
          "name": "stdout"
        },
        {
          "output_type": "stream",
          "text": [
            "/usr/local/lib/python3.7/dist-packages/sklearn/metrics/_classification.py:1272: UndefinedMetricWarning: Precision and F-score are ill-defined and being set to 0.0 in labels with no predicted samples. Use `zero_division` parameter to control this behavior.\n",
            "  _warn_prf(average, modifier, msg_start, len(result))\n",
            "/usr/local/lib/python3.7/dist-packages/sklearn/metrics/_classification.py:1272: UndefinedMetricWarning: Recall and F-score are ill-defined and being set to 0.0 in labels with no true samples. Use `zero_division` parameter to control this behavior.\n",
            "  _warn_prf(average, modifier, msg_start, len(result))\n"
          ],
          "name": "stderr"
        },
        {
          "output_type": "stream",
          "text": [
            "              precision    recall  f1-score   support\n",
            "\n",
            "         aad       1.00      0.78      0.88         9\n",
            "         ala       0.99      0.94      0.97       109\n",
            "         arg       0.00      0.00      0.00         0\n",
            "         asn       0.50      0.67      0.57         3\n",
            "         asp       0.75      1.00      0.86         3\n",
            "    beta-ala       0.00      0.00      0.00         0\n",
            "         bht       1.00      1.00      1.00         1\n",
            "         cys       0.78      1.00      0.88         7\n",
            "         dab       1.00      1.00      1.00         2\n",
            "         dhb       1.00      1.00      1.00        55\n",
            "         dht       0.00      0.00      0.00         0\n",
            "         gln       1.00      1.00      1.00         2\n",
            "         glu       0.00      0.00      0.00         2\n",
            "         gly       0.75      0.60      0.67         5\n",
            "         hpg       1.00      1.00      1.00         5\n",
            "         ile       0.75      0.75      0.75         4\n",
            "         leu       0.50      1.00      0.67         4\n",
            "         lys       0.00      0.00      0.00         1\n",
            "         orn       0.40      0.40      0.40         5\n",
            "         phe       0.73      0.42      0.53        19\n",
            "         pip       0.67      0.67      0.67         3\n",
            "         pro       0.29      0.67      0.40         3\n",
            "         ser       0.80      1.00      0.89         8\n",
            "         thr       1.00      0.83      0.91         6\n",
            "         trp       0.40      0.40      0.40         5\n",
            "         tyr       0.33      0.33      0.33         3\n",
            "         val       0.62      0.71      0.67         7\n",
            "\n",
            "    accuracy                           0.86       271\n",
            "   macro avg       0.60      0.64      0.61       271\n",
            "weighted avg       0.88      0.86      0.86       271\n",
            "\n"
          ],
          "name": "stdout"
        },
        {
          "output_type": "display_data",
          "data": {
            "image/png": "[encoded data removed]",
            "text/plain": [
              "<Figure size 720x720 with 2 Axes>"
            ]
          },
          "metadata": {
            "tags": [],
            "needs_background": "light"
          }
        }
      ]
    },
    {
      "cell_type": "markdown",
      "metadata": {
        "id": "re3Dbaho2iad"
      },
      "source": [
        "# Supporting Vector Machines"
      ]
    },
    {
      "cell_type": "code",
      "metadata": {
        "id": "c59lb1N1ySms",
        "colab": {
          "base_uri": "https://localhost:8080/",
          "height": 1000
        },
        "outputId": "4ed97354-0ea3-47d0-c2ae-4104d0aa9ab6"
      },
      "source": [
        "# Parameter grid\n",
        "svm_param_grid = {'C': [0.1], \n",
        "                  'gamma': [0.1], \n",
        "                  \"kernel\": [\"poly\"], \n",
        "                  \"decision_function_shape\" : [\"ovo\"]\n",
        "                  } \n",
        "\n",
        "# Create SVM grid search classifier\n",
        "svm_grid = GridSearchCV(SVC(), svm_param_grid, cv=3)\n",
        "\n",
        "kf = KFold(n_splits=10)\n",
        "results = cross_val_score(svm_grid, X_train, y_train, cv=kf)\n",
        "print('Cross Validation accuracy scores: %s' % results)\n",
        "print('Cross Validation accuracy: %.3f +/- %.3f' % (np.mean(results),np.std(results)))\n",
        "print('===================')\n",
        "\n",
        "\n",
        "# Train the classifier\n",
        "svm_grid.fit(X_train, y_train)\n",
        "\n",
        "print(\"Best Parameters:\\n\", svm_grid.best_params_)\n",
        "\n",
        "# Select best svc\n",
        "best_svc = svm_grid.best_estimator_\n",
        "\n",
        "# Make predictions using the optimised parameters\n",
        "svm_pred = best_svc.predict(X_test)\n",
        "\n",
        "print('SVM accuracy:', round(accuracy_score(y_test, svm_pred), 3))\n",
        "print('SVM macro f1-score:', round(f1_score(y_test, svm_pred, average='macro'), 3))\n",
        "\n",
        "print(classification_report(y_test, best_svc.predict(X_test)))\n",
        "\n",
        "cm_svm = confusion_matrix(y_test, svm_pred, labels=labels)\n",
        "\n",
        "k = 10\n",
        "cm_svm[cm_svm > k] = k\n",
        "\n",
        "fig, ax = plt.subplots(figsize=(10,10))\n",
        "sns.heatmap(cm_svm,  ax=ax, fmt='g', cmap='Greens', \n",
        "            xticklabels=labels, yticklabels=labels, \n",
        "            linewidth=1, linecolor='grey')\n",
        "\n",
        "# labels, title and ticks\n",
        "_ = ax.set_xlabel('Predicted labels')\n",
        "_ = ax.set_ylabel('True labels') \n",
        "_ = ax.set_title('SVM Confusion Matrix') "
      ],
      "execution_count": 79,
      "outputs": [
        {
          "output_type": "stream",
          "text": [
            "/usr/local/lib/python3.7/dist-packages/sklearn/model_selection/_split.py:667: UserWarning: The least populated class in y has only 2 members, which is less than n_splits=3.\n",
            "  % (min_groups, self.n_splits)), UserWarning)\n",
            "/usr/local/lib/python3.7/dist-packages/sklearn/model_selection/_split.py:667: UserWarning: The least populated class in y has only 2 members, which is less than n_splits=3.\n",
            "  % (min_groups, self.n_splits)), UserWarning)\n",
            "/usr/local/lib/python3.7/dist-packages/sklearn/model_selection/_split.py:667: UserWarning: The least populated class in y has only 1 members, which is less than n_splits=3.\n",
            "  % (min_groups, self.n_splits)), UserWarning)\n",
            "/usr/local/lib/python3.7/dist-packages/sklearn/model_selection/_split.py:667: UserWarning: The least populated class in y has only 2 members, which is less than n_splits=3.\n",
            "  % (min_groups, self.n_splits)), UserWarning)\n",
            "/usr/local/lib/python3.7/dist-packages/sklearn/model_selection/_split.py:667: UserWarning: The least populated class in y has only 2 members, which is less than n_splits=3.\n",
            "  % (min_groups, self.n_splits)), UserWarning)\n",
            "/usr/local/lib/python3.7/dist-packages/sklearn/model_selection/_split.py:667: UserWarning: The least populated class in y has only 1 members, which is less than n_splits=3.\n",
            "  % (min_groups, self.n_splits)), UserWarning)\n",
            "/usr/local/lib/python3.7/dist-packages/sklearn/model_selection/_split.py:667: UserWarning: The least populated class in y has only 2 members, which is less than n_splits=3.\n",
            "  % (min_groups, self.n_splits)), UserWarning)\n",
            "/usr/local/lib/python3.7/dist-packages/sklearn/model_selection/_split.py:667: UserWarning: The least populated class in y has only 2 members, which is less than n_splits=3.\n",
            "  % (min_groups, self.n_splits)), UserWarning)\n",
            "/usr/local/lib/python3.7/dist-packages/sklearn/model_selection/_split.py:667: UserWarning: The least populated class in y has only 2 members, which is less than n_splits=3.\n",
            "  % (min_groups, self.n_splits)), UserWarning)\n",
            "/usr/local/lib/python3.7/dist-packages/sklearn/model_selection/_split.py:667: UserWarning: The least populated class in y has only 2 members, which is less than n_splits=3.\n",
            "  % (min_groups, self.n_splits)), UserWarning)\n"
          ],
          "name": "stderr"
        },
        {
          "output_type": "stream",
          "text": [
            "Cross Validation accuracy scores: [0.83486239 0.85321101 0.88073394 0.88888889 0.85185185 0.84259259\n",
            " 0.81481481 0.87962963 0.87962963 0.92592593]\n",
            "Cross Validation accuracy: 0.865 +/- 0.030\n",
            "===================\n"
          ],
          "name": "stdout"
        },
        {
          "output_type": "stream",
          "text": [
            "/usr/local/lib/python3.7/dist-packages/sklearn/model_selection/_split.py:667: UserWarning: The least populated class in y has only 2 members, which is less than n_splits=3.\n",
            "  % (min_groups, self.n_splits)), UserWarning)\n"
          ],
          "name": "stderr"
        },
        {
          "output_type": "stream",
          "text": [
            "Best Parameters:\n",
            " {'C': 0.1, 'decision_function_shape': 'ovo', 'gamma': 0.1, 'kernel': 'poly'}\n",
            "SVM accuracy: 0.867\n",
            "SVM macro f1-score: 0.737\n"
          ],
          "name": "stdout"
        },
        {
          "output_type": "stream",
          "text": [
            "/usr/local/lib/python3.7/dist-packages/sklearn/metrics/_classification.py:1272: UndefinedMetricWarning: Precision and F-score are ill-defined and being set to 0.0 in labels with no predicted samples. Use `zero_division` parameter to control this behavior.\n",
            "  _warn_prf(average, modifier, msg_start, len(result))\n"
          ],
          "name": "stderr"
        },
        {
          "output_type": "stream",
          "text": [
            "              precision    recall  f1-score   support\n",
            "\n",
            "         aad       1.00      0.62      0.77         8\n",
            "         ala       0.98      0.99      0.99       119\n",
            "         arg       1.00      1.00      1.00         1\n",
            "         asn       1.00      0.50      0.67         4\n",
            "         asp       0.83      0.83      0.83         6\n",
            "    beta-ala       0.00      0.00      0.00         2\n",
            "         bht       1.00      1.00      1.00         2\n",
            "         cys       0.78      0.78      0.78         9\n",
            "         dab       1.00      1.00      1.00         3\n",
            "         dhb       1.00      0.98      0.99        43\n",
            "         glu       0.60      0.43      0.50         7\n",
            "         gly       1.00      0.83      0.91         6\n",
            "        horn       1.00      1.00      1.00         1\n",
            "         hpg       1.00      1.00      1.00         4\n",
            "         ile       1.00      0.50      0.67         2\n",
            "         leu       1.00      1.00      1.00         6\n",
            "         lys       1.00      1.00      1.00         1\n",
            "         orn       0.00      0.00      0.00         1\n",
            "         phe       0.36      0.71      0.48        17\n",
            "         pip       1.00      0.33      0.50         3\n",
            "         pro       0.50      1.00      0.67         2\n",
            "         ser       0.67      0.50      0.57         4\n",
            "         thr       1.00      0.75      0.86         4\n",
            "         trp       1.00      0.33      0.50         6\n",
            "         tyr       0.67      0.80      0.73         5\n",
            "         val       1.00      0.60      0.75         5\n",
            "\n",
            "    accuracy                           0.87       271\n",
            "   macro avg       0.82      0.71      0.74       271\n",
            "weighted avg       0.91      0.87      0.87       271\n",
            "\n"
          ],
          "name": "stdout"
        },
        {
          "output_type": "display_data",
          "data": {
            "image/png": "[encoded data removed]",
            "text/plain": [
              "<Figure size 720x720 with 2 Axes>"
            ]
          },
          "metadata": {
            "tags": [],
            "needs_background": "light"
          }
        }
      ]
    },
    {
      "cell_type": "code",
      "metadata": {
        "id": "dlUvNOtkUepi"
      },
      "source": [
        "# import csv\n",
        "\n",
        "# with open(\"torsion-99sb-ildn.dat\") as infile, open(\"outfile.csv\", \"w\") as outfile:\n",
        "#     csv_writer = csv.writer(outfile)\n",
        "#     prev = ''\n",
        "#     csv_writer.writerow(['ID', 'PARENT_ID'])\n",
        "#     for line in infile.read().splitlines():\n",
        "#         csv_writer.writerow([line, prev])\n",
        "#         prev = line"
      ],
      "execution_count": 1,
      "outputs": []
    },
    {
      "cell_type": "code",
      "metadata": {
        "id": "GqopioWZ3JKd"
      },
      "source": [
        ""
      ],
      "execution_count": null,
      "outputs": []
    }
  ]
}